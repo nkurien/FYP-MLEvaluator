{
 "cells": [
  {
   "cell_type": "code",
   "execution_count": 4,
   "id": "6576b798",
   "metadata": {},
   "outputs": [
    {
     "name": "stdout",
     "output_type": "stream",
     "text": [
      "{'uci_id': 186, 'name': 'Wine Quality', 'repository_url': 'https://archive.ics.uci.edu/dataset/186/wine+quality', 'data_url': 'https://archive.ics.uci.edu/static/public/186/data.csv', 'abstract': 'Two datasets are included, related to red and white vinho verde wine samples, from the north of Portugal. The goal is to model wine quality based on physicochemical tests (see [Cortez et al., 2009], http://www3.dsi.uminho.pt/pcortez/wine/).', 'area': 'Business', 'tasks': ['Classification', 'Regression'], 'characteristics': ['Multivariate'], 'num_instances': 4898, 'num_features': 11, 'feature_types': ['Real'], 'demographics': [], 'target_col': ['quality'], 'index_col': None, 'has_missing_values': 'no', 'missing_values_symbol': None, 'year_of_dataset_creation': 2009, 'last_updated': 'Wed Nov 15 2023', 'dataset_doi': '10.24432/C56S3T', 'creators': ['Paulo Cortez', 'A. Cerdeira', 'F. Almeida', 'T. Matos', 'J. Reis'], 'intro_paper': {'title': 'Modeling wine preferences by data mining from physicochemical properties', 'authors': 'P. Cortez, A. Cerdeira, Fernando Almeida, Telmo Matos, J. Reis', 'published_in': 'Decision Support Systems', 'year': 2009, 'url': 'https://www.semanticscholar.org/paper/Modeling-wine-preferences-by-data-mining-from-Cortez-Cerdeira/bf15a0ccc14ac1deb5cea570c870389c16be019c', 'doi': None}, 'additional_info': {'summary': 'The two datasets are related to red and white variants of the Portuguese \"Vinho Verde\" wine. For more details, consult: http://www.vinhoverde.pt/en/ or the reference [Cortez et al., 2009].  Due to privacy and logistic issues, only physicochemical (inputs) and sensory (the output) variables are available (e.g. there is no data about grape types, wine brand, wine selling price, etc.).\\n\\nThese datasets can be viewed as classification or regression tasks.  The classes are ordered and not balanced (e.g. there are many more normal wines than excellent or poor ones). Outlier detection algorithms could be used to detect the few excellent or poor wines. Also, we are not sure if all input variables are relevant. So it could be interesting to test feature selection methods.\\n', 'purpose': None, 'funded_by': None, 'instances_represent': None, 'recommended_data_splits': None, 'sensitive_data': None, 'preprocessing_description': None, 'variable_info': 'For more information, read [Cortez et al., 2009].\\r\\nInput variables (based on physicochemical tests):\\r\\n   1 - fixed acidity\\r\\n   2 - volatile acidity\\r\\n   3 - citric acid\\r\\n   4 - residual sugar\\r\\n   5 - chlorides\\r\\n   6 - free sulfur dioxide\\r\\n   7 - total sulfur dioxide\\r\\n   8 - density\\r\\n   9 - pH\\r\\n   10 - sulphates\\r\\n   11 - alcohol\\r\\nOutput variable (based on sensory data): \\r\\n   12 - quality (score between 0 and 10)', 'citation': None}}\n",
      "                    name     role         type demographic  \\\n",
      "0          fixed_acidity  Feature   Continuous        None   \n",
      "1       volatile_acidity  Feature   Continuous        None   \n",
      "2            citric_acid  Feature   Continuous        None   \n",
      "3         residual_sugar  Feature   Continuous        None   \n",
      "4              chlorides  Feature   Continuous        None   \n",
      "5    free_sulfur_dioxide  Feature   Continuous        None   \n",
      "6   total_sulfur_dioxide  Feature   Continuous        None   \n",
      "7                density  Feature   Continuous        None   \n",
      "8                     pH  Feature   Continuous        None   \n",
      "9              sulphates  Feature   Continuous        None   \n",
      "10               alcohol  Feature   Continuous        None   \n",
      "11               quality   Target      Integer        None   \n",
      "12                 color    Other  Categorical        None   \n",
      "\n",
      "               description units missing_values  \n",
      "0                     None  None             no  \n",
      "1                     None  None             no  \n",
      "2                     None  None             no  \n",
      "3                     None  None             no  \n",
      "4                     None  None             no  \n",
      "5                     None  None             no  \n",
      "6                     None  None             no  \n",
      "7                     None  None             no  \n",
      "8                     None  None             no  \n",
      "9                     None  None             no  \n",
      "10                    None  None             no  \n",
      "11  score between 0 and 10  None             no  \n",
      "12            red or white  None             no  \n"
     ]
    }
   ],
   "source": [
    "from ucimlrepo import fetch_ucirepo \n",
    "import numpy as np\n",
    "import sys\n",
    "sys.path.append(\"..\")\n",
    "from train_test_split import train_test_split\n",
    "import knn\n",
    "import classification_tree as tree\n",
    "\n",
    "# fetch dataset \n",
    "wine_quality = fetch_ucirepo(id=186) \n",
    "  \n",
    "# data (as pandas dataframes) \n",
    "X = wine_quality.data.features \n",
    "y = wine_quality.data.targets \n",
    "  \n",
    "# metadata \n",
    "print(wine_quality.metadata) \n",
    "  \n",
    "# variable information \n",
    "print(wine_quality.variables) \n"
   ]
  },
  {
   "cell_type": "code",
   "execution_count": 8,
   "id": "a9251293",
   "metadata": {},
   "outputs": [
    {
     "name": "stdout",
     "output_type": "stream",
     "text": [
      "(6497, 11)\n",
      "(6497, 1)\n",
      "   fixed_acidity  volatile_acidity  citric_acid  residual_sugar  chlorides  \\\n",
      "0            7.4              0.70         0.00             1.9      0.076   \n",
      "1            7.8              0.88         0.00             2.6      0.098   \n",
      "2            7.8              0.76         0.04             2.3      0.092   \n",
      "3           11.2              0.28         0.56             1.9      0.075   \n",
      "4            7.4              0.70         0.00             1.9      0.076   \n",
      "\n",
      "   free_sulfur_dioxide  total_sulfur_dioxide  density    pH  sulphates  \\\n",
      "0                 11.0                  34.0   0.9978  3.51       0.56   \n",
      "1                 25.0                  67.0   0.9968  3.20       0.68   \n",
      "2                 15.0                  54.0   0.9970  3.26       0.65   \n",
      "3                 17.0                  60.0   0.9980  3.16       0.58   \n",
      "4                 11.0                  34.0   0.9978  3.51       0.56   \n",
      "\n",
      "   alcohol  \n",
      "0      9.4  \n",
      "1      9.8  \n",
      "2      9.8  \n",
      "3      9.8  \n",
      "4      9.4  \n",
      "   quality\n",
      "0        5\n",
      "1        5\n",
      "2        5\n",
      "3        6\n",
      "4        5\n"
     ]
    }
   ],
   "source": [
    "print(X.shape)\n",
    "print(y.shape)\n",
    "print(X.head())\n",
    "print(y.head())"
   ]
  },
  {
   "cell_type": "code",
   "execution_count": 22,
   "id": "b6f62baf",
   "metadata": {},
   "outputs": [
    {
     "name": "stdout",
     "output_type": "stream",
     "text": [
      "(4873, 11)\n",
      "(1624, 11)\n"
     ]
    }
   ],
   "source": [
    "print(X_train.shape)\n",
    "print(X_test.shape)"
   ]
  },
  {
   "cell_type": "code",
   "execution_count": 25,
   "id": "66b720a0",
   "metadata": {},
   "outputs": [
    {
     "name": "stdout",
     "output_type": "stream",
     "text": [
      "X[10] <= 10.13333333\n",
      "Left:\n",
      "|   X[1] <= 0.25\n",
      "|   Left:\n",
      "|   |   X[10] <= 8.9\n",
      "|   |   Left:\n",
      "|   |   |   --> Class: 5.0\n",
      "|   |   Right:\n",
      "|   |   |   X[4] <= 0.051\n",
      "|   |   |   Left:\n",
      "|   |   |   |   --> Class: 6.0\n",
      "|   |   |   Right:\n",
      "|   |   |   |   --> Class: 6.0\n",
      "|   Right:\n",
      "|   |   X[10] <= 9.9\n",
      "|   |   Left:\n",
      "|   |   |   X[1] <= 0.305\n",
      "|   |   |   Left:\n",
      "|   |   |   |   --> Class: 5.0\n",
      "|   |   |   Right:\n",
      "|   |   |   |   --> Class: 5.0\n",
      "|   |   Right:\n",
      "|   |   |   X[3] <= 6.4\n",
      "|   |   |   Left:\n",
      "|   |   |   |   --> Class: 5.0\n",
      "|   |   |   Right:\n",
      "|   |   |   |   --> Class: 6.0\n",
      "Right:\n",
      "|   X[10] <= 11.75\n",
      "|   Left:\n",
      "|   |   X[5] <= 15.5\n",
      "|   |   Left:\n",
      "|   |   |   X[9] <= 0.53\n",
      "|   |   |   Left:\n",
      "|   |   |   |   --> Class: 5.0\n",
      "|   |   |   Right:\n",
      "|   |   |   |   --> Class: 6.0\n",
      "|   |   Right:\n",
      "|   |   |   X[10] <= 10.65\n",
      "|   |   |   Left:\n",
      "|   |   |   |   --> Class: 6.0\n",
      "|   |   |   Right:\n",
      "|   |   |   |   --> Class: 6.0\n",
      "|   Right:\n",
      "|   |   X[10] <= 12.6\n",
      "|   |   Left:\n",
      "|   |   |   X[3] <= 1.25\n",
      "|   |   |   Left:\n",
      "|   |   |   |   --> Class: 6.0\n",
      "|   |   |   Right:\n",
      "|   |   |   |   --> Class: 6.0\n",
      "|   |   Right:\n",
      "|   |   |   X[1] <= 0.52\n",
      "|   |   |   Left:\n",
      "|   |   |   |   --> Class: 7.0\n",
      "|   |   |   Right:\n",
      "|   |   |   |   --> Class: 6.0\n"
     ]
    }
   ],
   "source": [
    "%%timeit -r 1 -n 1\n",
    "knn_wine = knn.KNearestNeighbours(k=10)\n",
    "tree_wine = tree.ClassificationTree(max_depth=4, min_size = 150)\n",
    "\n",
    "knn_wine.fit(X_train, y_train)\n",
    "\n",
    "tree_wine.fit(X_train, y_train)\n",
    "tree_wine.print_tree()"
   ]
  },
  {
   "cell_type": "code",
   "execution_count": 21,
   "id": "bf58fe1c",
   "metadata": {},
   "outputs": [
    {
     "data": {
      "text/plain": [
       "0.37096872042514983"
      ]
     },
     "execution_count": 21,
     "metadata": {},
     "output_type": "execute_result"
    }
   ],
   "source": [
    "np.mean(tree_wine.predict(X_test)==y_test)"
   ]
  },
  {
   "cell_type": "code",
   "execution_count": null,
   "id": "58f4e15d",
   "metadata": {},
   "outputs": [],
   "source": []
  }
 ],
 "metadata": {
  "kernelspec": {
   "display_name": "Python 3 (ipykernel)",
   "language": "python",
   "name": "python3"
  },
  "language_info": {
   "codemirror_mode": {
    "name": "ipython",
    "version": 3
   },
   "file_extension": ".py",
   "mimetype": "text/x-python",
   "name": "python",
   "nbconvert_exporter": "python",
   "pygments_lexer": "ipython3",
   "version": "3.11.5"
  }
 },
 "nbformat": 4,
 "nbformat_minor": 5
}
