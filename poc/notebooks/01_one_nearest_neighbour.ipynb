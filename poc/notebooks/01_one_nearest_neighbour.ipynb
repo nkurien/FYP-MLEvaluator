{
 "cells": [
  {
   "cell_type": "markdown",
   "id": "3115f8c9",
   "metadata": {},
   "source": [
    "## Implementing POC program of simple 1-NN algorithm"
   ]
  },
  {
   "cell_type": "code",
   "execution_count": 1,
   "id": "e943e55c",
   "metadata": {},
   "outputs": [],
   "source": [
    "import numpy as np\n",
    "\n",
    "class NearestNeighbour:\n",
    "    def __init__(self):\n",
    "        self.training_data = None\n",
    "        self.training_labels = None\n",
    "\n",
    "    # training of data onto labels\n",
    "    def fit(self, X, y):\n",
    "        self.X_training_data = X\n",
    "        self.y_training_labels = y\n",
    "    \n",
    "    # testing function, classifies using helper method which finds euclidean distance\n",
    "    def predict(self, X):\n",
    "        predictions = []\n",
    "        for point in X:\n",
    "            predictions.append(self._predict_point(point))\n",
    "        return predictions\n",
    "    \n",
    "\n",
    "    def _predict_point(self, point):\n",
    "        distances = [self._euclidean_distance(point, x) for x in self.X_training_data]\n",
    "        nearest = np.argmin(distances)\n",
    "\n",
    "        return self.y_training_labels[nearest]\n",
    "\n",
    "    def _euclidean_distance(self, p1, p2):\n",
    "        return np.sqrt((p1[0] - p2[0])**2 + (p1[1] - p2[1])**2)"
   ]
  },
  {
   "cell_type": "markdown",
   "id": "7507e952",
   "metadata": {},
   "source": [
    "We will use test data from one of Prof. Vovk's lectures to test this simple algorithm"
   ]
  },
  {
   "cell_type": "code",
   "execution_count": 2,
   "id": "a2362931",
   "metadata": {},
   "outputs": [],
   "source": [
    "data = [(0,3),(2,2),(3,3),(-1,1),(-1,-1),(0,1)]\n",
    "labels = [1, 1, 1, -1, -1, -1]\n",
    "\n",
    "test_sample = [(1,2)]"
   ]
  },
  {
   "cell_type": "code",
   "execution_count": 3,
   "id": "dbd6b175",
   "metadata": {},
   "outputs": [],
   "source": [
    "nn1 = NearestNeighbour()\n",
    "nn1.fit(data,labels)"
   ]
  },
  {
   "cell_type": "markdown",
   "id": "a29cad61",
   "metadata": {},
   "source": [
    "The algorithm has been fit to the data above. When testing the data, we are expecting the prediction to give the test sample a label of 1 - 2,2 would be the nearest neighbour."
   ]
  },
  {
   "cell_type": "code",
   "execution_count": 4,
   "id": "76c023c8",
   "metadata": {},
   "outputs": [
    {
     "name": "stdout",
     "output_type": "stream",
     "text": [
      "[1]\n"
     ]
    }
   ],
   "source": [
    "print(nn1.predict(test_sample))  "
   ]
  },
  {
   "cell_type": "markdown",
   "id": "40a15e00",
   "metadata": {},
   "source": [
    "And this seems to work! We can try and print the distances it found"
   ]
  },
  {
   "cell_type": "code",
   "execution_count": 5,
   "id": "fa6247bd",
   "metadata": {},
   "outputs": [
    {
     "name": "stdout",
     "output_type": "stream",
     "text": [
      "[1.4142135623730951, 1.0, 2.23606797749979, 2.23606797749979, 3.605551275463989, 1.4142135623730951]\n",
      "[1]\n"
     ]
    }
   ],
   "source": [
    "import numpy as np\n",
    "\n",
    "class NearestNeighbour:\n",
    "    def __init__(self):\n",
    "        self.training_data = None\n",
    "        self.training_labels = None\n",
    "\n",
    "    # training of data onto labels\n",
    "    def fit(self, X, y):\n",
    "        self.X_training_data = X\n",
    "        self.y_training_labels = y\n",
    "    \n",
    "    # testing function, classifies using helper method which finds euclidean distance\n",
    "    def predict(self, X):\n",
    "        predictions = []\n",
    "        for point in X:\n",
    "            predictions.append(self._predict_point(point))\n",
    "        return predictions\n",
    "    \n",
    "\n",
    "    def _predict_point(self, point):\n",
    "        distances = [self._euclidean_distance(point, x) for x in self.X_training_data]\n",
    "        print(distances) #added print statement here\n",
    "        nearest = np.argmin(distances)\n",
    "\n",
    "        return self.y_training_labels[nearest]\n",
    "\n",
    "    def _euclidean_distance(self, p1, p2):\n",
    "        return np.sqrt((p1[0] - p2[0])**2 + (p1[1] - p2[1])**2)\n",
    "\n",
    "nn1 = NearestNeighbour()\n",
    "nn1.fit(data,labels)\n",
    "print(nn1.predict(test_sample))  "
   ]
  },
  {
   "cell_type": "markdown",
   "id": "7ba77c68",
   "metadata": {},
   "source": [
    "Here we can see the list of distances of the test to each point and we can see the second data point (2,2) has the lowest distance of 1. It's labelled as 1 so the algorithm correctly applies this label to the test data sample."
   ]
  },
  {
   "cell_type": "code",
   "execution_count": 3,
   "id": "12158ebd",
   "metadata": {},
   "outputs": [
    {
     "data": {
      "image/png": "[encoded data removed]",
      "text/plain": [
       "<Figure size 640x480 with 1 Axes>"
      ]
     },
     "metadata": {},
     "output_type": "display_data"
    }
   ],
   "source": [
    "import matplotlib.pyplot as plt\n",
    "\n",
    "data = [(0,3),(2,2),(3,3),(-1,1),(-1,-1),(0,1)]\n",
    "labels = [1, 1, 1, -1, -1, -1]\n",
    "\n",
    "test_sample = [(1,2)]\n",
    "\n",
    "# Convert data to x and y for plotting\n",
    "x, y = zip(*data)\n",
    "\n",
    "# Separating data based on labels\n",
    "x_pos = [xi for xi, label in zip(x, labels) if label == 1]\n",
    "y_pos = [yi for yi, label in zip(y, labels) if label == 1]\n",
    "x_neg = [xi for xi, label in zip(x, labels) if label == -1]\n",
    "y_neg = [yi for yi, label in zip(y, labels) if label == -1]\n",
    "\n",
    "# Plotting data points with labels 1 and -1\n",
    "plt.scatter(x_pos, y_pos, color='blue', label='Label 1')\n",
    "plt.scatter(x_neg, y_neg, color='red', label='Label -1')\n",
    "\n",
    "# Plotting test sample\n",
    "plt.scatter(*test_sample[0], color='green', marker='*', s=100, label='Test Sample')\n",
    "\n",
    "# Adjusting the axis to show integer ticks\n",
    "plt.xticks(range(int(min(x)) - 1, int(max(x)) + 2))\n",
    "plt.yticks(range(int(min(y)) - 1, int(max(y)) + 2))\n",
    "\n",
    "# Displaying the axis\n",
    "plt.axhline(0, color='black', linewidth=0.5)\n",
    "plt.axvline(0, color='black', linewidth=0.5)\n",
    "\n",
    "plt.legend()\n",
    "plt.xlabel('X-axis')\n",
    "plt.ylabel('Y-axis')\n",
    "plt.title('Simple Data used for 1NN')\n",
    "plt.grid(True)\n",
    "plt.show()\n"
   ]
  },
  {
   "cell_type": "markdown",
   "id": "c0a4232d",
   "metadata": {},
   "source": [
    "Here is a visualisation of the data we've just been using for the algorithm"
   ]
  }
 ],
 "metadata": {
  "kernelspec": {
   "display_name": "Python 3 (ipykernel)",
   "language": "python",
   "name": "python3"
  },
  "language_info": {
   "codemirror_mode": {
    "name": "ipython",
    "version": 3
   },
   "file_extension": ".py",
   "mimetype": "text/x-python",
   "name": "python",
   "nbconvert_exporter": "python",
   "pygments_lexer": "ipython3",
   "version": "3.11.5"
  }
 },
 "nbformat": 4,
 "nbformat_minor": 5
}
