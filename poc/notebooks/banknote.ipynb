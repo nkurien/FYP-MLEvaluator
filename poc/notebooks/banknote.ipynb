{
 "cells": [
  {
   "cell_type": "code",
   "execution_count": 2,
   "id": "d668f873",
   "metadata": {},
   "outputs": [],
   "source": [
    "import numpy as np\n",
    "import sys\n",
    "sys.path.append(\"..\")\n",
    "from train_test_split import train_test_split\n",
    "import knn\n",
    "import classification_tree as tree"
   ]
  },
  {
   "cell_type": "code",
   "execution_count": 3,
   "id": "52c549b0",
   "metadata": {},
   "outputs": [],
   "source": [
    "# Load the dataset\n",
    "banknote_data = np.genfromtxt('../datasets/data_banknote_authentication.txt', delimiter=',')\n",
    "\n",
    "# Split into features and labels\n",
    "X = banknote_data[:, :-1]  # All rows, all columns except the last\n",
    "y = banknote_data[:, -1]   # All rows, only the last column\n"
   ]
  },
  {
   "cell_type": "code",
   "execution_count": 4,
   "id": "f791405b",
   "metadata": {},
   "outputs": [
    {
     "name": "stdout",
     "output_type": "stream",
     "text": [
      "(1029, 4)\n",
      "(343, 4)\n"
     ]
    }
   ],
   "source": [
    "X_train, X_test, y_train, y_test = train_test_split(X,y,seed=2108)\n",
    "print(X_train.shape)\n",
    "print(X_test.shape)"
   ]
  },
  {
   "cell_type": "code",
   "execution_count": 5,
   "id": "209b4772",
   "metadata": {},
   "outputs": [],
   "source": [
    "knn_banknote = knn.KNearestNeighbours(k=10)\n",
    "tree_banknote = tree.ClassificationTree()"
   ]
  },
  {
   "cell_type": "code",
   "execution_count": 6,
   "id": "28b00cd8",
   "metadata": {},
   "outputs": [
    {
     "name": "stdout",
     "output_type": "stream",
     "text": [
      "X[0] <= 0.3223\n",
      "Left:\n",
      "|   X[1] <= 5.9781\n",
      "|   Left:\n",
      "|   |   X[2] <= 6.2204\n",
      "|   |   Left:\n",
      "|   |   |   X[0] <= -0.36038\n",
      "|   |   |   Left:\n",
      "|   |   |   |   --> Class: 1.0\n",
      "|   |   |   Right:\n",
      "|   |   |   |   X[2] <= 3.1143\n",
      "|   |   |   |   Left:\n",
      "|   |   |   |   |   --> Class: 1.0\n",
      "|   |   |   |   Right:\n",
      "|   |   |   |   |   --> Class: 0.0\n",
      "|   |   Right:\n",
      "|   |   |   X[1] <= -4.6062\n",
      "|   |   |   Left:\n",
      "|   |   |   |   --> Class: 1.0\n",
      "|   |   |   Right:\n",
      "|   |   |   |   X[0] <= -1.7344\n",
      "|   |   |   |   Left:\n",
      "|   |   |   |   |   --> Class: 1.0\n",
      "|   |   |   |   Right:\n",
      "|   |   |   |   |   --> Class: 0.0\n",
      "|   Right:\n",
      "|   |   X[0] <= -2.7419\n",
      "|   |   Left:\n",
      "|   |   |   X[2] <= 3.1392\n",
      "|   |   |   Left:\n",
      "|   |   |   |   --> Class: 1.0\n",
      "|   |   |   Right:\n",
      "|   |   |   |   --> Class: 0.0\n",
      "|   |   Right:\n",
      "|   |   |   --> Class: 0.0\n",
      "Right:\n",
      "|   X[2] <= -4.3839\n",
      "|   Left:\n",
      "|   |   X[0] <= 4.2164\n",
      "|   |   Left:\n",
      "|   |   |   --> Class: 1.0\n",
      "|   |   Right:\n",
      "|   |   |   --> Class: 0.0\n",
      "|   Right:\n",
      "|   |   X[0] <= 1.594\n",
      "|   |   Left:\n",
      "|   |   |   X[2] <= -2.7876\n",
      "|   |   |   Left:\n",
      "|   |   |   |   --> Class: 1.0\n",
      "|   |   |   Right:\n",
      "|   |   |   |   X[3] <= 0.097399\n",
      "|   |   |   |   Left:\n",
      "|   |   |   |   |   X[0] <= 0.49571\n",
      "|   |   |   |   |   Left:\n",
      "|   |   |   |   |   |   X[0] <= 0.40614\n",
      "|   |   |   |   |   |   Left:\n",
      "|   |   |   |   |   |   |   --> Class: 0.0\n",
      "|   |   |   |   |   |   Right:\n",
      "|   |   |   |   |   |   |   --> Class: 1.0\n",
      "|   |   |   |   |   Right:\n",
      "|   |   |   |   |   |   --> Class: 0.0\n",
      "|   |   |   |   Right:\n",
      "|   |   |   |   |   X[2] <= 2.0013\n",
      "|   |   |   |   |   Left:\n",
      "|   |   |   |   |   |   --> Class: 1.0\n",
      "|   |   |   |   |   Right:\n",
      "|   |   |   |   |   |   --> Class: 0.0\n",
      "|   |   Right:\n",
      "|   |   |   X[0] <= 2.0421\n",
      "|   |   |   Left:\n",
      "|   |   |   |   X[2] <= -2.3386\n",
      "|   |   |   |   Left:\n",
      "|   |   |   |   |   --> Class: 1.0\n",
      "|   |   |   |   Right:\n",
      "|   |   |   |   |   --> Class: 0.0\n",
      "|   |   |   Right:\n",
      "|   |   |   |   --> Class: 0.0\n"
     ]
    }
   ],
   "source": [
    "knn_banknote.fit(X_train, y_train)\n",
    "tree_banknote.fit(X_train, y_train)\n",
    "tree_banknote.print_tree()"
   ]
  },
  {
   "cell_type": "code",
   "execution_count": 7,
   "id": "e94a505f",
   "metadata": {},
   "outputs": [
    {
     "name": "stdout",
     "output_type": "stream",
     "text": [
      "KNN (k = 10) Accuracy: 1.0\n",
      "Tree Accuracy: 0.9708454810495627\n"
     ]
    }
   ],
   "source": [
    "knn_pred = knn_banknote.predict(X_test)\n",
    "tree_pred = tree_banknote.predict(X_test)\n",
    "\n",
    "knn_acc = np.mean(y_test == knn_pred)\n",
    "tree_acc = np.mean(y_test == tree_pred)\n",
    "\n",
    "print(\"KNN (k = 10) Accuracy:\",knn_acc)\n",
    "print(\"Tree Accuracy:\",tree_acc)"
   ]
  },
  {
   "cell_type": "code",
   "execution_count": 8,
   "id": "0274591c",
   "metadata": {},
   "outputs": [
    {
     "name": "stdout",
     "output_type": "stream",
     "text": [
      "5-Folds - KNN - Mean Accuracy: 0.9990243902439024\n",
      "10-Folds - KNN - Mean Accuracy: 0.9990196078431373\n",
      "Leave-One-Out - KNN: 0.9990281827016521\n",
      "5-Folds - Tree - Mean Accuracy: 0.9766600536818766\n",
      "10-Folds - Tree - Mean Accuracy: 0.9707472178060412\n"
     ]
    }
   ],
   "source": [
    "import cross_validation as cv\n",
    "\n",
    "knn_bn_kfolds = knn.KNearestNeighbours(10)\n",
    "tree_bn_kfolds = tree.ClassificationTree()\n",
    "\n",
    "print(\"5-Folds - KNN - Mean Accuracy:\", cv.k_folds_accuracy_score(knn_bn_kfolds, X_train, y_train, k=5, seed=2108))\n",
    "print(\"10-Folds - KNN - Mean Accuracy:\", cv.k_folds_accuracy_score(knn_bn_kfolds, X_train, y_train, k=10, seed=2108))\n",
    "print(\"Leave-One-Out - KNN:\", cv.leave_one_out_score(knn_bn_kfolds, X_train, y_train, seed=2108))\n",
    "\n",
    "\n",
    "print(\"5-Folds - Tree - Mean Accuracy:\", cv.k_folds_accuracy_score(tree_bn_kfolds, X_train, y_train, k=5, seed=2108))\n",
    "print(\"10-Folds - Tree - Mean Accuracy:\", cv.k_folds_accuracy_score(tree_bn_kfolds, X_train, y_train, k=10, seed=2108))\n"
   ]
  },
  {
   "cell_type": "code",
   "execution_count": 9,
   "id": "1f73e78a",
   "metadata": {},
   "outputs": [
    {
     "ename": "KeyboardInterrupt",
     "evalue": "",
     "output_type": "error",
     "traceback": [
      "\u001b[0;31m---------------------------------------------------------------------------\u001b[0m",
      "\u001b[0;31mKeyboardInterrupt\u001b[0m                         Traceback (most recent call last)",
      "Cell \u001b[0;32mIn[9], line 1\u001b[0m\n\u001b[0;32m----> 1\u001b[0m \u001b[38;5;28mprint\u001b[39m(\u001b[38;5;124m\"\u001b[39m\u001b[38;5;124mLeave-One-Out - KNN:\u001b[39m\u001b[38;5;124m\"\u001b[39m, cv\u001b[38;5;241m.\u001b[39mleave_one_out_score(tree_bn_kfolds, X_train, y_train, seed\u001b[38;5;241m=\u001b[39m\u001b[38;5;241m2108\u001b[39m))\n",
      "File \u001b[0;32m~/Desktop/PROJECT/poc/notebooks/../cross_validation.py:103\u001b[0m, in \u001b[0;36mleave_one_out_score\u001b[0;34m(model, X, y, seed)\u001b[0m\n\u001b[1;32m    102\u001b[0m \u001b[38;5;28;01mdef\u001b[39;00m \u001b[38;5;21mleave_one_out_score\u001b[39m(model, X, y, seed\u001b[38;5;241m=\u001b[39m\u001b[38;5;28;01mNone\u001b[39;00m):\n\u001b[0;32m--> 103\u001b[0m     \u001b[38;5;28;01mreturn\u001b[39;00m np\u001b[38;5;241m.\u001b[39mmean(leave_one_out_scores(model,X,y,seed))\n",
      "File \u001b[0;32m~/Desktop/PROJECT/poc/notebooks/../cross_validation.py:100\u001b[0m, in \u001b[0;36mleave_one_out_scores\u001b[0;34m(model, X, y, seed)\u001b[0m\n\u001b[1;32m     97\u001b[0m \u001b[38;5;28;01mdef\u001b[39;00m \u001b[38;5;21mleave_one_out_scores\u001b[39m(model, X, y, seed\u001b[38;5;241m=\u001b[39m\u001b[38;5;28;01mNone\u001b[39;00m):\n\u001b[1;32m     98\u001b[0m     k \u001b[38;5;241m=\u001b[39m \u001b[38;5;28mlen\u001b[39m(y)\n\u001b[0;32m--> 100\u001b[0m     \u001b[38;5;28;01mreturn\u001b[39;00m k_folds_accuracy_scores(model, X, y, k, seed)\n",
      "File \u001b[0;32m~/Desktop/PROJECT/poc/notebooks/../cross_validation.py:72\u001b[0m, in \u001b[0;36mk_folds_accuracy_scores\u001b[0;34m(model, X, y, k, seed)\u001b[0m\n\u001b[1;32m     67\u001b[0m \u001b[38;5;66;03m# Iterate over each fold\u001b[39;00m\n\u001b[1;32m     68\u001b[0m \u001b[38;5;66;03m#n=0\u001b[39;00m\n\u001b[1;32m     69\u001b[0m \u001b[38;5;66;03m#mismatch = 0\u001b[39;00m\n\u001b[1;32m     70\u001b[0m \u001b[38;5;28;01mfor\u001b[39;00m (X_train, y_train), (X_test, y_test) \u001b[38;5;129;01min\u001b[39;00m folds:\n\u001b[1;32m     71\u001b[0m     \u001b[38;5;66;03m# Fit the model on the training set\u001b[39;00m\n\u001b[0;32m---> 72\u001b[0m     model\u001b[38;5;241m.\u001b[39mfit(X_train, y_train)\n\u001b[1;32m     74\u001b[0m     \u001b[38;5;66;03m# Predict on the test set\u001b[39;00m\n\u001b[1;32m     75\u001b[0m     y_pred \u001b[38;5;241m=\u001b[39m model\u001b[38;5;241m.\u001b[39mpredict(X_test)\n",
      "File \u001b[0;32m~/Desktop/PROJECT/poc/notebooks/../classification_tree.py:41\u001b[0m, in \u001b[0;36mClassificationTree.fit\u001b[0;34m(self, X, y)\u001b[0m\n\u001b[1;32m     39\u001b[0m dataset \u001b[38;5;241m=\u001b[39m np\u001b[38;5;241m.\u001b[39mcolumn_stack((X, y))\u001b[38;5;241m.\u001b[39mtolist()\n\u001b[1;32m     40\u001b[0m \u001b[38;5;66;03m#print(dataset)\u001b[39;00m\n\u001b[0;32m---> 41\u001b[0m \u001b[38;5;28mself\u001b[39m\u001b[38;5;241m.\u001b[39mroot \u001b[38;5;241m=\u001b[39m \u001b[38;5;28mself\u001b[39m\u001b[38;5;241m.\u001b[39mbuild_tree(dataset, \u001b[38;5;28mself\u001b[39m\u001b[38;5;241m.\u001b[39mmax_depth, \u001b[38;5;28mself\u001b[39m\u001b[38;5;241m.\u001b[39mmin_size)\n",
      "File \u001b[0;32m~/Desktop/PROJECT/poc/notebooks/../classification_tree.py:92\u001b[0m, in \u001b[0;36mClassificationTree.build_tree\u001b[0;34m(self, train, max_depth, min_size)\u001b[0m\n\u001b[1;32m     80\u001b[0m \u001b[38;5;28;01mdef\u001b[39;00m \u001b[38;5;21mbuild_tree\u001b[39m(\u001b[38;5;28mself\u001b[39m, train, max_depth, min_size):\n\u001b[1;32m     81\u001b[0m \u001b[38;5;250m    \u001b[39m\u001b[38;5;124;03m\"\"\"\u001b[39;00m\n\u001b[1;32m     82\u001b[0m \u001b[38;5;124;03m    Builds the decision tree from the training dataset.\u001b[39;00m\n\u001b[1;32m     83\u001b[0m \n\u001b[0;32m   (...)\u001b[0m\n\u001b[1;32m     90\u001b[0m \u001b[38;5;124;03m        dict: The root node of the decision tree.\u001b[39;00m\n\u001b[1;32m     91\u001b[0m \u001b[38;5;124;03m    \"\"\"\u001b[39;00m\n\u001b[0;32m---> 92\u001b[0m     root \u001b[38;5;241m=\u001b[39m \u001b[38;5;28mself\u001b[39m\u001b[38;5;241m.\u001b[39mget_split(train) \u001b[38;5;66;03m# Find the best initial split for the root.\u001b[39;00m\n\u001b[1;32m     93\u001b[0m     \u001b[38;5;28mself\u001b[39m\u001b[38;5;241m.\u001b[39msplit(root, max_depth, min_size, \u001b[38;5;241m1\u001b[39m) \u001b[38;5;66;03m# Recursively split the tree from the root node.\u001b[39;00m\n\u001b[1;32m     94\u001b[0m     \u001b[38;5;66;03m# The value 1 above is passed as the first layer depth from the root\u001b[39;00m\n",
      "File \u001b[0;32m~/Desktop/PROJECT/poc/notebooks/../classification_tree.py:141\u001b[0m, in \u001b[0;36mClassificationTree.get_split\u001b[0;34m(self, dataset)\u001b[0m\n\u001b[1;32m    139\u001b[0m \u001b[38;5;28;01mfor\u001b[39;00m index \u001b[38;5;129;01min\u001b[39;00m \u001b[38;5;28mrange\u001b[39m(\u001b[38;5;28mlen\u001b[39m(dataset[\u001b[38;5;241m0\u001b[39m]) \u001b[38;5;241m-\u001b[39m \u001b[38;5;241m1\u001b[39m): \u001b[38;5;66;03m# Iterate over all features\u001b[39;00m\n\u001b[1;32m    140\u001b[0m     \u001b[38;5;28;01mfor\u001b[39;00m row \u001b[38;5;129;01min\u001b[39;00m dataset:\n\u001b[0;32m--> 141\u001b[0m         groups \u001b[38;5;241m=\u001b[39m \u001b[38;5;28mself\u001b[39m\u001b[38;5;241m.\u001b[39mtest_split(index, row[index], dataset) \u001b[38;5;66;03m# Test split on each unique feature value.\u001b[39;00m\n\u001b[1;32m    142\u001b[0m         gini \u001b[38;5;241m=\u001b[39m \u001b[38;5;28mself\u001b[39m\u001b[38;5;241m.\u001b[39mgini_index(groups, class_values) \u001b[38;5;66;03m# Calculate Gini index for the split.\u001b[39;00m\n\u001b[1;32m    143\u001b[0m         \u001b[38;5;28;01mif\u001b[39;00m gini \u001b[38;5;241m<\u001b[39m b_score: \u001b[38;5;66;03m# Check if we found a better split.\u001b[39;00m\n",
      "File \u001b[0;32m~/Desktop/PROJECT/poc/notebooks/../classification_tree.py:183\u001b[0m, in \u001b[0;36mClassificationTree.test_split\u001b[0;34m(self, index, value, dataset)\u001b[0m\n\u001b[1;32m    181\u001b[0m         left\u001b[38;5;241m.\u001b[39mappend(row)\n\u001b[1;32m    182\u001b[0m     \u001b[38;5;28;01melse\u001b[39;00m:\n\u001b[0;32m--> 183\u001b[0m         right\u001b[38;5;241m.\u001b[39mappend(row)\n\u001b[1;32m    184\u001b[0m \u001b[38;5;28;01mreturn\u001b[39;00m left, right\n",
      "\u001b[0;31mKeyboardInterrupt\u001b[0m: "
     ]
    }
   ],
   "source": [
    "print(\"Leave-One-Out - KNN:\", cv.leave_one_out_score(tree_bn_kfolds, X_train, y_train, seed=2108))"
   ]
  },
  {
   "cell_type": "code",
   "execution_count": 11,
   "id": "cb3f42a2",
   "metadata": {},
   "outputs": [
    {
     "name": "stdout",
     "output_type": "stream",
     "text": [
      "5-Folds - KNN - Mean Accuracy: 0.9970731707317073\n",
      "10-Folds - KNN - Mean Accuracy: 0.9970588235294118\n",
      "5-Folds - Tree - Mean Accuracy: 0.9815567744194189\n",
      "10-Folds - Tree - Mean Accuracy: 0.9767885532591416\n",
      "18 s ± 0 ns per loop (mean ± std. dev. of 1 run, 1 loop each)\n"
     ]
    }
   ],
   "source": [
    "%%timeit -r 1 -n 1\n",
    "X_train, X_test, y_train, y_test = train_test_split(X,y,seed=2200)\n",
    "\n",
    "#Banknote authentication dataset - 1400 samples\n",
    "print(\"5-Folds - KNN - Mean Accuracy:\", cv.k_folds_accuracy_score(knn_bn_kfolds, X_train, y_train, k=5, seed=2108))\n",
    "print(\"10-Folds - KNN - Mean Accuracy:\", cv.k_folds_accuracy_score(knn_bn_kfolds, X_train, y_train, k=10, seed=2108))\n",
    "print(\"5-Folds - Tree - Mean Accuracy:\", cv.k_folds_accuracy_score(tree_bn_kfolds, X_train, y_train, k=5, seed=2108))\n",
    "print(\"10-Folds - Tree - Mean Accuracy:\", cv.k_folds_accuracy_score(tree_bn_kfolds, X_train, y_train, k=10, seed=2108))"
   ]
  },
  {
   "cell_type": "code",
   "execution_count": 13,
   "id": "5c98d91c",
   "metadata": {},
   "outputs": [
    {
     "name": "stdout",
     "output_type": "stream",
     "text": [
      "10-Folds - KNN - All Accuracies: [1.0, 1.0, 1.0, 0.9901960784313726, 1.0, 1.0, 1.0, 1.0, 1.0, 1.0]\n"
     ]
    }
   ],
   "source": [
    "print(\"10-Folds - KNN - All Accuracies:\", cv.k_folds_accuracy_scores(knn_bn_kfolds, X_train, y_train, k=10, seed=2108))\n"
   ]
  },
  {
   "cell_type": "code",
   "execution_count": null,
   "id": "6a2b6694",
   "metadata": {},
   "outputs": [],
   "source": []
  }
 ],
 "metadata": {
  "kernelspec": {
   "display_name": "Python 3 (ipykernel)",
   "language": "python",
   "name": "python3"
  },
  "language_info": {
   "codemirror_mode": {
    "name": "ipython",
    "version": 3
   },
   "file_extension": ".py",
   "mimetype": "text/x-python",
   "name": "python",
   "nbconvert_exporter": "python",
   "pygments_lexer": "ipython3",
   "version": "3.11.5"
  }
 },
 "nbformat": 4,
 "nbformat_minor": 5
}
