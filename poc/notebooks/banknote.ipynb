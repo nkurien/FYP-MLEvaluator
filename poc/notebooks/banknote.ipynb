{
 "cells": [
  {
   "cell_type": "code",
   "execution_count": 1,
   "id": "d668f873",
   "metadata": {},
   "outputs": [],
   "source": [
    "import numpy as np\n",
    "import sys\n",
    "sys.path.append(\"..\")\n",
    "from train_test_split import train_test_split\n",
    "import knn\n",
    "import classification_tree as tree"
   ]
  },
  {
   "cell_type": "code",
   "execution_count": 2,
   "id": "52c549b0",
   "metadata": {},
   "outputs": [],
   "source": [
    "# Load the dataset\n",
    "banknote_data = np.genfromtxt('../datasets/data_banknote_authentication.txt', delimiter=',')\n",
    "\n",
    "# Split into features and labels\n",
    "X = banknote_data[:, :-1]  # All rows, all columns except the last\n",
    "y = banknote_data[:, -1]   # All rows, only the last column\n"
   ]
  },
  {
   "cell_type": "code",
   "execution_count": 3,
   "id": "f791405b",
   "metadata": {},
   "outputs": [
    {
     "name": "stdout",
     "output_type": "stream",
     "text": [
      "(1029, 4)\n",
      "(343, 4)\n"
     ]
    }
   ],
   "source": [
    "X_train, X_test, y_train, y_test = train_test_split(X,y,seed=2108)\n",
    "print(X_train.shape)\n",
    "print(X_test.shape)"
   ]
  },
  {
   "cell_type": "code",
   "execution_count": 4,
   "id": "209b4772",
   "metadata": {},
   "outputs": [],
   "source": [
    "knn_banknote = knn.KNearestNeighbours(k=10)\n",
    "tree_banknote = tree.ClassificationTree()"
   ]
  },
  {
   "cell_type": "code",
   "execution_count": 5,
   "id": "28b00cd8",
   "metadata": {},
   "outputs": [
    {
     "name": "stdout",
     "output_type": "stream",
     "text": [
      "X[0] <= 0.3223\n",
      "Left:\n",
      "|   X[1] <= 5.9781\n",
      "|   Left:\n",
      "|   |   X[2] <= 6.2204\n",
      "|   |   Left:\n",
      "|   |   |   X[0] <= -0.36038\n",
      "|   |   |   Left:\n",
      "|   |   |   |   --> Class: 1.0\n",
      "|   |   |   Right:\n",
      "|   |   |   |   X[2] <= 3.1143\n",
      "|   |   |   |   Left:\n",
      "|   |   |   |   |   --> Class: 1.0\n",
      "|   |   |   |   Right:\n",
      "|   |   |   |   |   --> Class: 0.0\n",
      "|   |   Right:\n",
      "|   |   |   X[1] <= -4.6062\n",
      "|   |   |   Left:\n",
      "|   |   |   |   --> Class: 1.0\n",
      "|   |   |   Right:\n",
      "|   |   |   |   X[0] <= -1.7344\n",
      "|   |   |   |   Left:\n",
      "|   |   |   |   |   --> Class: 1.0\n",
      "|   |   |   |   Right:\n",
      "|   |   |   |   |   --> Class: 0.0\n",
      "|   Right:\n",
      "|   |   X[0] <= -2.7419\n",
      "|   |   Left:\n",
      "|   |   |   X[2] <= 3.1392\n",
      "|   |   |   Left:\n",
      "|   |   |   |   --> Class: 1.0\n",
      "|   |   |   Right:\n",
      "|   |   |   |   --> Class: 0.0\n",
      "|   |   Right:\n",
      "|   |   |   --> Class: 0.0\n",
      "Right:\n",
      "|   X[2] <= -4.3839\n",
      "|   Left:\n",
      "|   |   X[0] <= 4.2164\n",
      "|   |   Left:\n",
      "|   |   |   --> Class: 1.0\n",
      "|   |   Right:\n",
      "|   |   |   --> Class: 0.0\n",
      "|   Right:\n",
      "|   |   X[0] <= 1.594\n",
      "|   |   Left:\n",
      "|   |   |   X[2] <= -2.7876\n",
      "|   |   |   Left:\n",
      "|   |   |   |   --> Class: 1.0\n",
      "|   |   |   Right:\n",
      "|   |   |   |   X[3] <= 0.097399\n",
      "|   |   |   |   Left:\n",
      "|   |   |   |   |   X[0] <= 0.49571\n",
      "|   |   |   |   |   Left:\n",
      "|   |   |   |   |   |   X[0] <= 0.40614\n",
      "|   |   |   |   |   |   Left:\n",
      "|   |   |   |   |   |   |   --> Class: 0.0\n",
      "|   |   |   |   |   |   Right:\n",
      "|   |   |   |   |   |   |   --> Class: 1.0\n",
      "|   |   |   |   |   Right:\n",
      "|   |   |   |   |   |   --> Class: 0.0\n",
      "|   |   |   |   Right:\n",
      "|   |   |   |   |   X[2] <= 2.0013\n",
      "|   |   |   |   |   Left:\n",
      "|   |   |   |   |   |   --> Class: 1.0\n",
      "|   |   |   |   |   Right:\n",
      "|   |   |   |   |   |   --> Class: 0.0\n",
      "|   |   Right:\n",
      "|   |   |   X[0] <= 2.0421\n",
      "|   |   |   Left:\n",
      "|   |   |   |   X[2] <= -2.3386\n",
      "|   |   |   |   Left:\n",
      "|   |   |   |   |   --> Class: 1.0\n",
      "|   |   |   |   Right:\n",
      "|   |   |   |   |   --> Class: 0.0\n",
      "|   |   |   Right:\n",
      "|   |   |   |   --> Class: 0.0\n"
     ]
    }
   ],
   "source": [
    "knn_banknote.fit(X_train, y_train)\n",
    "tree_banknote.fit(X_train, y_train)\n",
    "tree_banknote.print_tree()"
   ]
  },
  {
   "cell_type": "code",
   "execution_count": 6,
   "id": "e94a505f",
   "metadata": {},
   "outputs": [
    {
     "name": "stdout",
     "output_type": "stream",
     "text": [
      "KNN (k = 10) Accuracy: 1.0\n",
      "Tree Accuracy: 0.9708454810495627\n"
     ]
    }
   ],
   "source": [
    "knn_pred = knn_banknote.predict(X_test)\n",
    "tree_pred = tree_banknote.predict(X_test)\n",
    "\n",
    "knn_acc = np.mean(y_test == knn_pred)\n",
    "tree_acc = np.mean(y_test == tree_pred)\n",
    "\n",
    "print(\"KNN (k = 10) Accuracy:\",knn_acc)\n",
    "print(\"Tree Accuracy:\",tree_acc)"
   ]
  },
  {
   "cell_type": "code",
   "execution_count": 7,
   "id": "0274591c",
   "metadata": {},
   "outputs": [
    {
     "name": "stdout",
     "output_type": "stream",
     "text": [
      "5-Folds - KNN - Mean Accuracy: 0.9990243902439024\n",
      "10-Folds - KNN - Mean Accuracy: 0.9990196078431373\n",
      "Leave-One-Out - KNN: 0.9990281827016521\n",
      "5-Folds - Tree - Mean Accuracy: 0.9766600536818766\n",
      "10-Folds - Tree - Mean Accuracy: 0.9707472178060412\n"
     ]
    }
   ],
   "source": [
    "import cross_validation as cv\n",
    "\n",
    "knn_bn_kfolds = knn.KNearestNeighbours(10)\n",
    "tree_bn_kfolds = tree.ClassificationTree()\n",
    "\n",
    "print(\"5-Folds - KNN - Mean Accuracy:\", cv.k_folds_accuracy_score(knn_bn_kfolds, X_train, y_train, k=5, seed=2108))\n",
    "print(\"10-Folds - KNN - Mean Accuracy:\", cv.k_folds_accuracy_score(knn_bn_kfolds, X_train, y_train, k=10, seed=2108))\n",
    "print(\"Leave-One-Out - KNN:\", cv.leave_one_out_score(knn_bn_kfolds, X_train, y_train, seed=2108))\n",
    "\n",
    "\n",
    "print(\"5-Folds - Tree - Mean Accuracy:\", cv.k_folds_accuracy_score(tree_bn_kfolds, X_train, y_train, k=5, seed=2108))\n",
    "print(\"10-Folds - Tree - Mean Accuracy:\", cv.k_folds_accuracy_score(tree_bn_kfolds, X_train, y_train, k=10, seed=2108))\n",
    "##print(\"Leave-One-Out - KNN:\", cv.leave_one_out_score(tree_bn_kfolds, X_train, y_train, seed=2108))"
   ]
  },
  {
   "cell_type": "code",
   "execution_count": 8,
   "id": "cb3f42a2",
   "metadata": {},
   "outputs": [
    {
     "name": "stdout",
     "output_type": "stream",
     "text": [
      "5-Folds - KNN - Mean Accuracy: 0.9980861244019138\n",
      "10-Folds - KNN - Mean Accuracy: 1.0\n",
      "5-Folds - Tree - Mean Accuracy: 0.9688738475901506\n",
      "10-Folds - Tree - Mean Accuracy: 0.9671436142024377\n",
      "13.5 s ± 0 ns per loop (mean ± std. dev. of 1 run, 1 loop each)\n"
     ]
    }
   ],
   "source": [
    "X_train, X_test, y_train, y_test = train_test_split(X,y,seed=2210)\n",
    "\n",
    "print(\"5-Folds - KNN - Mean Accuracy:\", cv.k_folds_accuracy_score(knn_bn_kfolds, X_train, y_train, k=5, seed=2108))\n",
    "print(\"10-Folds - KNN - Mean Accuracy:\", cv.k_folds_accuracy_score(knn_bn_kfolds, X_train, y_train, k=10, seed=2108))\n",
    "print(\"5-Folds - Tree - Mean Accuracy:\", cv.k_folds_accuracy_score(tree_bn_kfolds, X_train, y_train, k=5, seed=2108))\n",
    "print(\"10-Folds - Tree - Mean Accuracy:\", cv.k_folds_accuracy_score(tree_bn_kfolds, X_train, y_train, k=10, seed=2108))"
   ]
  }
 ],
 "metadata": {
  "kernelspec": {
   "display_name": "Python 3 (ipykernel)",
   "language": "python",
   "name": "python3"
  },
  "language_info": {
   "codemirror_mode": {
    "name": "ipython",
    "version": 3
   },
   "file_extension": ".py",
   "mimetype": "text/x-python",
   "name": "python",
   "nbconvert_exporter": "python",
   "pygments_lexer": "ipython3",
   "version": "3.11.5"
  }
 },
 "nbformat": 4,
 "nbformat_minor": 5
}
