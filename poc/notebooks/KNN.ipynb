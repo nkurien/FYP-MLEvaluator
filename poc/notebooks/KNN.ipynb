{
 "cells": [
  {
   "cell_type": "code",
   "execution_count": 44,
   "id": "5b880744",
   "metadata": {},
   "outputs": [],
   "source": [
    "import numpy as np\n",
    "class KNearestNeighbours:\n",
    "    def __init__(self, k=1):\n",
    "        self.k = k\n",
    "        self.X_training_data = None\n",
    "        self.y_training_labels = None\n",
    "\n",
    "    def fit(self, X, y):\n",
    "        if self.k > len(X):\n",
    "            raise ValueError(\"k must be less than or equal to the number of training data points.\")\n",
    "        self.X_training_data = X\n",
    "        self.y_training_labels = y\n",
    "\n",
    "    def predict(self, X):\n",
    "        predictions = [self._predict_point(point) for point in X]\n",
    "        return predictions\n",
    "\n",
    "    def _predict_point(self, point):\n",
    "        k_nearest = [(-1, float('inf')) for _ in range(self.k)]  # [(index, distance), ...]\n",
    "\n",
    "        for i, training_point in enumerate(self.X_training_data):\n",
    "            if (point == training_point).all():  # Skip the identical point\n",
    "                continue\n",
    "\n",
    "            distance = self._euclidean_distance(point, training_point)\n",
    "            \n",
    "            # Check if the distance is smaller than the current k-nearest distances\n",
    "            for j, (idx, dist) in enumerate(k_nearest):\n",
    "                if distance < dist:\n",
    "                    k_nearest.insert(j, (i, distance))\n",
    "                    k_nearest = k_nearest[:self.k]  # Keep only the k-nearest distances\n",
    "                    break\n",
    "\n",
    "        # Get labels of the k-nearest points\n",
    "        k_labels = [self.y_training_labels[idx] for idx, dist in k_nearest]\n",
    "        \n",
    "        # Majority vote\n",
    "        majority_label = max(set(k_labels), key=k_labels.count)\n",
    "        return majority_label\n",
    "\n",
    "    def _euclidean_distance(self, p1, p2):\n",
    "        return np.sqrt(np.sum((np.array(p1) - np.array(p2))**2))"
   ]
  },
  {
   "cell_type": "code",
   "execution_count": 45,
   "id": "bc720533",
   "metadata": {},
   "outputs": [],
   "source": [
    "from sklearn.datasets import load_iris\n",
    "\n",
    "iris = load_iris()\n",
    "threeNN = KNearestNeighbours(k=3)"
   ]
  },
  {
   "cell_type": "code",
   "execution_count": 50,
   "id": "73fdab8c",
   "metadata": {},
   "outputs": [
    {
     "name": "stdout",
     "output_type": "stream",
     "text": [
      "The autoreload extension is already loaded. To reload it, use:\n",
      "  %reload_ext autoreload\n",
      "(75, 4)\n",
      "(75, 4)\n",
      "(75,)\n",
      "(75,)\n"
     ]
    }
   ],
   "source": [
    "%load_ext autoreload\n",
    "import sys\n",
    "sys.path.append(\"..\")\n",
    "from train_test_split import train_test_split\n",
    "iris_X = iris['data']\n",
    "iris_y = iris['target']\n",
    "iris_X_train, iris_X_test, iris_y_train, iris_y_test = train_test_split(iris_X, iris_y, seed=21012)\n",
    "print(iris_X_train.shape)\n",
    "print(iris_X_test.shape)\n",
    "print(iris_y_train.shape)\n",
    "print(iris_y_train.shape)"
   ]
  },
  {
   "cell_type": "code",
   "execution_count": null,
   "id": "0f1a5e22",
   "metadata": {},
   "outputs": [],
   "source": []
  }
 ],
 "metadata": {
  "kernelspec": {
   "display_name": "Python 3 (ipykernel)",
   "language": "python",
   "name": "python3"
  },
  "language_info": {
   "codemirror_mode": {
    "name": "ipython",
    "version": 3
   },
   "file_extension": ".py",
   "mimetype": "text/x-python",
   "name": "python",
   "nbconvert_exporter": "python",
   "pygments_lexer": "ipython3",
   "version": "3.11.5"
  }
 },
 "nbformat": 4,
 "nbformat_minor": 5
}
