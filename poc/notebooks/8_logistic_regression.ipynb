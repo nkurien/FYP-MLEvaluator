{
 "cells": [
  {
   "cell_type": "code",
   "execution_count": 53,
   "id": "931b49c4",
   "metadata": {},
   "outputs": [],
   "source": [
    "import numpy as np\n",
    "import sys\n",
    "sys.path.append(\"..\")\n",
    "from logistic_regression import LogisticRegression"
   ]
  },
  {
   "cell_type": "code",
   "execution_count": 54,
   "id": "8d4139f1",
   "metadata": {},
   "outputs": [],
   "source": [
    "from sklearn.datasets import load_iris\n",
    "\n",
    "iris = load_iris()"
   ]
  },
  {
   "cell_type": "code",
   "execution_count": 55,
   "id": "a05facc9",
   "metadata": {},
   "outputs": [
    {
     "name": "stdout",
     "output_type": "stream",
     "text": [
      "(75, 4)\n",
      "(25, 4)\n",
      "(75,)\n",
      "(25,)\n",
      "[1 0 0 0 1 0 0 0 1 0 0 0 0 1 0 1 1 0 0 1 0 1 1 1 0 0 1 0 1 1 1 0 0 1 0 1 0\n",
      " 1 1 0 0 1 1 0 1 0 0 0 1 0 0 0 1 0 0 0 0 1 0 1 1 1 1 0 1 1 0 1 1 1 1 1 1 0\n",
      " 0]\n"
     ]
    }
   ],
   "source": [
    "from train_test_split import train_test_split\n",
    "# Load the Iris dataset\n",
    "iris = load_iris()\n",
    "X, y = iris.data, iris.target\n",
    "\n",
    "# Ensure this line is executed before filtering:\n",
    "# Filter out the Iris-Virginica class to focus on a binary classification task\n",
    "X = X[y != 2]  # Assuming Iris-Virginica is encoded as '2'\n",
    "y = y[y != 2]\n",
    "\n",
    "# Now proceed with the rest of your preprocessing steps\n",
    "# Split the dataset into training and test sets\n",
    "\n",
    "iris_X_train, iris_X_test, iris_y_train, iris_y_test = train_test_split(X, y, seed=345)\n",
    "print(iris_X_train.shape)\n",
    "print(iris_X_test.shape)\n",
    "print(iris_y_train.shape)\n",
    "print(iris_y_test.shape)\n",
    "print(iris_y_train)"
   ]
  },
  {
   "cell_type": "code",
   "execution_count": 56,
   "id": "bb68ceb2",
   "metadata": {},
   "outputs": [],
   "source": [
    "lr_iris = LogisticRegression()\n",
    "lr_iris.fit(iris_X_train, iris_y_train)"
   ]
  },
  {
   "cell_type": "code",
   "execution_count": 57,
   "id": "0d60781e",
   "metadata": {},
   "outputs": [
    {
     "name": "stdout",
     "output_type": "stream",
     "text": [
      "[1 0 1 1 0 1 0 0 1 1 0 1 0 0 1 1 1 1 0 0 0 1 1 1 0]\n"
     ]
    }
   ],
   "source": [
    "lr_pred_iris = lr_iris.predict(iris_X_test)\n",
    "print(lr_pred_iris)"
   ]
  },
  {
   "cell_type": "code",
   "execution_count": 58,
   "id": "72b6df5c",
   "metadata": {},
   "outputs": [
    {
     "name": "stdout",
     "output_type": "stream",
     "text": [
      "[1 0 1 1 0 1 0 0 1 1 0 1 0 0 1 1 1 1 0 0 0 1 1 1 0]\n",
      "1.0\n"
     ]
    }
   ],
   "source": [
    "print(iris_y_test)\n",
    "print(np.mean(lr_pred_iris == iris_y_test))"
   ]
  },
  {
   "cell_type": "code",
   "execution_count": 59,
   "id": "0c66bb91",
   "metadata": {},
   "outputs": [
    {
     "name": "stdout",
     "output_type": "stream",
     "text": [
      "1.0\n"
     ]
    }
   ],
   "source": [
    "from cross_validation import k_folds_accuracy_score\n",
    "lr_iris = LogisticRegression(n_iterations=100)\n",
    "print(k_folds_accuracy_score(lr_iris, X, y, 10, 2108))"
   ]
  },
  {
   "cell_type": "code",
   "execution_count": 60,
   "id": "c8bb78e2",
   "metadata": {},
   "outputs": [
    {
     "name": "stdout",
     "output_type": "stream",
     "text": [
      "0.5800000000000001\n"
     ]
    }
   ],
   "source": [
    "X, y = iris.data, iris.target\n",
    "X = X[y != 0]  \n",
    "y = y[y != 0]\n",
    "print(k_folds_accuracy_score(lr_iris, X, y, 10, 2108))"
   ]
  },
  {
   "cell_type": "code",
   "execution_count": null,
   "id": "023e0bfa",
   "metadata": {},
   "outputs": [],
   "source": []
  }
 ],
 "metadata": {
  "kernelspec": {
   "display_name": "Python 3 (ipykernel)",
   "language": "python",
   "name": "python3"
  },
  "language_info": {
   "codemirror_mode": {
    "name": "ipython",
    "version": 3
   },
   "file_extension": ".py",
   "mimetype": "text/x-python",
   "name": "python",
   "nbconvert_exporter": "python",
   "pygments_lexer": "ipython3",
   "version": "3.11.5"
  }
 },
 "nbformat": 4,
 "nbformat_minor": 5
}
