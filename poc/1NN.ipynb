{
 "cells": [
  {
   "cell_type": "markdown",
   "id": "b6b6b228",
   "metadata": {},
   "source": [
    "## Implementing POC program of simple 1-NN algorithm"
   ]
  },
  {
   "cell_type": "code",
   "execution_count": 1,
   "id": "05485631",
   "metadata": {},
   "outputs": [],
   "source": [
    "import numpy as np\n",
    "\n",
    "class NearestNeighbour:\n",
    "    def __init__(self):\n",
    "        self.training_data = None\n",
    "        self.training_labels = None\n",
    "\n",
    "    # training of data onto labels\n",
    "    def fit(self, X, y):\n",
    "        self.X_training_data = X\n",
    "        self.y_training_labels = y\n",
    "    \n",
    "    # testing function, classifies using helper method which finds euclidean distance\n",
    "    def predict(self, X):\n",
    "        predictions = []\n",
    "        for point in X:\n",
    "            predictions.append(self._predict_point(point))\n",
    "        return predictions\n",
    "    \n",
    "\n",
    "    def _predict_point(self, point):\n",
    "        distances = [self._euclidean_distance(point, x) for x in self.X_training_data]\n",
    "        nearest = np.argmin(distances)\n",
    "\n",
    "        return self.y_training_labels[nearest]\n",
    "\n",
    "    def _euclidean_distance(self, p1, p2):\n",
    "        return np.sqrt((p1[0] - p2[0])**2 + (p1[1] - p2[1])**2)"
   ]
  },
  {
   "cell_type": "markdown",
   "id": "4cee80d8",
   "metadata": {},
   "source": [
    "We will use test data from one of Prof. Vovk's lectures to test this simple algorithm"
   ]
  },
  {
   "cell_type": "code",
   "execution_count": 2,
   "id": "13ab5cda",
   "metadata": {},
   "outputs": [],
   "source": [
    "data = [(0,3),(2,2),(3,3),(-1,1),(-1,-1),(0,1)]\n",
    "labels = [1, 1, 1, -1, -1, -1]\n",
    "\n",
    "test_sample = [(1,2)]"
   ]
  },
  {
   "cell_type": "code",
   "execution_count": 4,
   "id": "d579b841",
   "metadata": {},
   "outputs": [],
   "source": [
    "nn1 = NearestNeighbour()\n",
    "nn1.fit(data,labels)"
   ]
  },
  {
   "cell_type": "markdown",
   "id": "6cfc919e",
   "metadata": {},
   "source": [
    "The algorithm has been fit to the data above. When testing the data, we are expecting the prediction to give the test sample a label of 1 - 2,2 would be the nearest neighbour."
   ]
  },
  {
   "cell_type": "code",
   "execution_count": 7,
   "id": "4dc3d051",
   "metadata": {},
   "outputs": [
    {
     "name": "stdout",
     "output_type": "stream",
     "text": [
      "[1]\n"
     ]
    }
   ],
   "source": [
    "print(nn1.predict(test_sample))  "
   ]
  },
  {
   "cell_type": "markdown",
   "id": "8936832c",
   "metadata": {},
   "source": [
    "And this seems to work! We can try and print the distances it found"
   ]
  },
  {
   "cell_type": "code",
   "execution_count": 15,
   "id": "f41afc7d",
   "metadata": {},
   "outputs": [
    {
     "name": "stdout",
     "output_type": "stream",
     "text": [
      "[1.4142135623730951, 1.0, 2.23606797749979, 2.23606797749979, 3.605551275463989, 1.4142135623730951]\n",
      "[1]\n"
     ]
    }
   ],
   "source": [
    "import numpy as np\n",
    "\n",
    "class NearestNeighbour:\n",
    "    def __init__(self):\n",
    "        self.training_data = None\n",
    "        self.training_labels = None\n",
    "\n",
    "    # training of data onto labels\n",
    "    def fit(self, X, y):\n",
    "        self.X_training_data = X\n",
    "        self.y_training_labels = y\n",
    "    \n",
    "    # testing function, classifies using helper method which finds euclidean distance\n",
    "    def predict(self, X):\n",
    "        predictions = []\n",
    "        for point in X:\n",
    "            predictions.append(self._predict_point(point))\n",
    "        return predictions\n",
    "    \n",
    "\n",
    "    def _predict_point(self, point):\n",
    "        distances = [self._euclidean_distance(point, x) for x in self.X_training_data]\n",
    "        print(distances) #added print statement here\n",
    "        nearest = np.argmin(distances)\n",
    "\n",
    "        return self.y_training_labels[nearest]\n",
    "\n",
    "    def _euclidean_distance(self, p1, p2):\n",
    "        return np.sqrt((p1[0] - p2[0])**2 + (p1[1] - p2[1])**2)\n",
    "\n",
    "nn1 = NearestNeighbour()\n",
    "nn1.fit(data,labels)\n",
    "print(nn1.predict(test_sample))  "
   ]
  },
  {
   "cell_type": "markdown",
   "id": "213d3e17",
   "metadata": {},
   "source": [
    "Here we can see the list of distances of the test to each point and we can see the second data point (2,2) has the lowest distance of 1. It's labelled as 1 so the algorithm correctly applies this label to the test data sample."
   ]
  }
 ],
 "metadata": {
  "kernelspec": {
   "display_name": "Python 3 (ipykernel)",
   "language": "python",
   "name": "python3"
  },
  "language_info": {
   "codemirror_mode": {
    "name": "ipython",
    "version": 3
   },
   "file_extension": ".py",
   "mimetype": "text/x-python",
   "name": "python",
   "nbconvert_exporter": "python",
   "pygments_lexer": "ipython3",
   "version": "3.11.5"
  }
 },
 "nbformat": 4,
 "nbformat_minor": 5
}
