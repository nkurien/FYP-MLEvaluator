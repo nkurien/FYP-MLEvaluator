{
 "cells": [
  {
   "cell_type": "code",
   "execution_count": 1,
   "id": "0ac2d217",
   "metadata": {},
   "outputs": [
    {
     "name": "stdout",
     "output_type": "stream",
     "text": [
      "[['republican' 'n' 'y' ... 'y' 'n' 'y']\n",
      " ['republican' 'n' 'y' ... 'y' 'n' '?']\n",
      " ['democrat' '?' 'y' ... 'y' 'n' 'n']\n",
      " ...\n",
      " ['republican' 'n' '?' ... 'y' 'n' 'y']\n",
      " ['republican' 'n' 'n' ... 'y' 'n' 'y']\n",
      " ['republican' 'n' 'y' ... 'y' '?' 'n']]\n",
      "[['republican' 'n' 'y' ... 'y' 'n' 'y']\n",
      " ['republican' 'n' 'y' ... 'y' 'n' 'nan']\n",
      " ['democrat' 'nan' 'y' ... 'y' 'n' 'n']\n",
      " ...\n",
      " ['republican' 'n' 'nan' ... 'y' 'n' 'y']\n",
      " ['republican' 'n' 'n' ... 'y' 'n' 'y']\n",
      " ['republican' 'n' 'y' ... 'y' 'nan' 'n']]\n"
     ]
    }
   ],
   "source": [
    "import numpy as np\n",
    "import sys\n",
    "sys.path.append(\"..\")\n",
    "from models.knn import KNearestNeighbours\n",
    "from models.classification_tree import ClassificationTree\n",
    "from models.logistic_regression import SoftmaxRegression\n",
    "from data_processing.preprocessing import MinMaxScaler, SimpleImputer, OrdinalEncoder, OneHotEncoder, PreprocessingPipeline, LabelEncoder\n",
    "from data_processing.train_test_split import train_test_split \n",
    "\n",
    "congress_data = np.genfromtxt(\"../datasets/congressvotes84/house-votes-84-data.csv\",delimiter=\",\",dtype=str)\n",
    "print(congress_data)\n",
    "\n",
    "def convert_data(value):\n",
    "    if value == '?':\n",
    "        return np.nan  # Replace '?' with NaN for numerical columns\n",
    "    else:\n",
    "        try:\n",
    "            return float(value)  # Convert to float if possible\n",
    "        except ValueError:\n",
    "            return value  # Keep the string value for categorical columns\n",
    "\n",
    "# Apply the converter function to each column\n",
    "for i in range(congress_data.shape[1]):\n",
    "    congress_data[:, i] = [convert_data(value) for value in congress_data[:, i]]\n",
    "\n",
    "print(congress_data)"
   ]
  },
  {
   "cell_type": "code",
   "execution_count": 2,
   "id": "9f015a52",
   "metadata": {},
   "outputs": [
    {
     "name": "stdout",
     "output_type": "stream",
     "text": [
      "[['n' 'y' 'n' 'y' 'y' 'y' 'n' 'n' 'n' 'y' 'nan' 'y' 'y' 'y' 'n' 'y']\n",
      " ['n' 'y' 'n' 'y' 'y' 'y' 'n' 'n' 'n' 'n' 'n' 'y' 'y' 'y' 'n' 'nan']\n",
      " ['nan' 'y' 'y' 'nan' 'y' 'y' 'n' 'n' 'n' 'n' 'y' 'n' 'y' 'y' 'n' 'n']\n",
      " ['n' 'y' 'y' 'n' 'nan' 'y' 'n' 'n' 'n' 'n' 'y' 'n' 'y' 'n' 'n' 'y']\n",
      " ['y' 'y' 'y' 'n' 'y' 'y' 'n' 'n' 'n' 'n' 'y' 'nan' 'y' 'y' 'y' 'y']]\n",
      "[['republican']\n",
      " ['republican']\n",
      " ['democrat']\n",
      " ['democrat']\n",
      " ['democrat']]\n"
     ]
    }
   ],
   "source": [
    "congress_X = congress_data[:, 1:]\n",
    "congress_y = congress_data[:, :1]\n",
    "print(congress_X[:5])\n",
    "print(congress_y[:5])"
   ]
  },
  {
   "cell_type": "code",
   "execution_count": 3,
   "id": "f26afa46",
   "metadata": {},
   "outputs": [
    {
     "name": "stdout",
     "output_type": "stream",
     "text": [
      "(435, 17)\n",
      "[[1. 0. 0. ... 1. 0. 0.]\n",
      " [1. 0. 0. ... 0. 1. 0.]\n",
      " [0. 0. 1. ... 0. 0. 1.]\n",
      " ...\n",
      " [1. 0. 0. ... 0. 0. 1.]\n",
      " [0. 0. 1. ... 0. 0. 1.]\n",
      " [1. 0. 0. ... 1. 0. 0.]]\n",
      "(348, 16) (87, 16) (348, 1) (87, 1)\n"
     ]
    }
   ],
   "source": [
    "imputer = SimpleImputer(strategy=\"most_frequent\")\n",
    "encoder = OneHotEncoder()\n",
    "scaler = MinMaxScaler()\n",
    "label_encoder = LabelEncoder()\n",
    "\n",
    "\n",
    "#Create pipeline\n",
    "pipeline_steps = [\n",
    "    ('imputer', imputer),\n",
    "    ('encoder', encoder),\n",
    "    ('scaler', scaler)\n",
    "]\n",
    "\n",
    "pipeline = PreprocessingPipeline(pipeline_steps)\n",
    "print(congress_data.shape)\n",
    "# Split the data into training and test sets\n",
    "X_train, X_test, y_train, y_test = train_test_split(congress_X, congress_y, test_size=0.2, seed=2709)\n",
    "\n",
    "# Preprocess the training data\n",
    "X_train_preprocessed = pipeline.fit_transform(X_train)\n",
    "print(X_train_preprocessed)\n",
    "\n",
    "# Preprocess the test data (using the same transformations as the training data)\n",
    "X_test_preprocessed = pipeline.transform(X_test)\n",
    "\n",
    "print(X_train.shape, X_test.shape, y_train.shape, y_test.shape)\n",
    "\n",
    "y_train_encoded = label_encoder.fit_transform(y_train)\n",
    "y_test_encoded = label_encoder.transform(y_test)\n",
    "\n"
   ]
  },
  {
   "cell_type": "code",
   "execution_count": 4,
   "id": "d5634580",
   "metadata": {},
   "outputs": [
    {
     "name": "stdout",
     "output_type": "stream",
     "text": [
      "KNN  accuracy:  0.9540229885057471\n",
      "Decision Tree  accuracy:  0.9655172413793104\n",
      "Softmax Regression  accuracy:  0.9425287356321839\n"
     ]
    }
   ],
   "source": [
    "knn_congress = KNearestNeighbours(3)\n",
    "tree_congress = ClassificationTree()\n",
    "sm_congress = SoftmaxRegression()\n",
    "\n",
    "models = [knn_congress, tree_congress, sm_congress]\n",
    "\n",
    "for model in models:\n",
    "    model.fit(X_train_preprocessed,y_train_encoded)\n",
    "    ypred = model.predict(X_test_preprocessed)\n",
    "    acc = np.mean(ypred == y_test_encoded)\n",
    "    print(model.name,\" accuracy: \", acc)\n"
   ]
  },
  {
   "cell_type": "code",
   "execution_count": 5,
   "id": "01393ac2",
   "metadata": {},
   "outputs": [
    {
     "data": {
      "image/png": "[encoded data removed]",
      "text/plain": [
       "<Figure size 1500x500 with 6 Axes>"
      ]
     },
     "metadata": {},
     "output_type": "display_data"
    }
   ],
   "source": [
    "import matplotlib.pyplot as plt\n",
    "from sklearn.metrics import confusion_matrix\n",
    "import seaborn as sns\n",
    "\n",
    "# Define model names for display purposes\n",
    "model_names = ['KNN', 'Decision Tree', 'Softmax Regression']\n",
    "\n",
    "# Define color maps for each confusion matrix\n",
    "cmaps = ['Greens', 'Oranges', 'Blues']\n",
    "\n",
    "# Set up the matplotlib figure and axes, organized in a 1x3 grid\n",
    "fig, axes = plt.subplots(1, 3, figsize=(15, 5))\n",
    "\n",
    "# Iterate over models, their names, and chosen color maps\n",
    "for i, (model, name, cmap) in enumerate(zip(models, model_names, cmaps)):\n",
    "    # Predict the test set\n",
    "    y_pred = model.predict(X_test_preprocessed)\n",
    "    \n",
    "    # Calculate the confusion matrix\n",
    "    cm = confusion_matrix(y_test_encoded, y_pred)\n",
    "    \n",
    "    # Plot the confusion matrix\n",
    "    sns.heatmap(cm, annot=True, fmt=\"d\", cmap=cmap, xticklabels=['Democrat', 'Republican'], yticklabels=['Democrat', 'Republican'], ax=axes[i])\n",
    "    axes[i].set_xlabel('Predicted Labels')\n",
    "    axes[i].set_ylabel('True Labels')\n",
    "    axes[i].set_title(f'Confusion Matrix for {model.name}')\n",
    "    \n",
    "\n",
    "plt.tight_layout()\n",
    "plt.show()\n"
   ]
  },
  {
   "cell_type": "code",
   "execution_count": 6,
   "id": "369e5073",
   "metadata": {},
   "outputs": [
    {
     "name": "stdout",
     "output_type": "stream",
     "text": [
      "[['1' '0' '3' ... '7.25' '' 'S']\n",
      " ['2' '1' '1' ... '71.2833' 'C85' 'C']\n",
      " ['3' '1' '3' ... '7.925' '' 'S']\n",
      " ...\n",
      " ['889' '0' '3' ... '23.45' '' 'S']\n",
      " ['890' '1' '1' ... '30' 'C148' 'C']\n",
      " ['891' '0' '3' ... '7.75' '' 'Q']]\n"
     ]
    }
   ],
   "source": [
    "titanic = np.genfromtxt(\"../datasets/Titanic-Dataset.csv\",delimiter=\",\",skip_header=1,dtype=str)\n",
    "print(titanic)"
   ]
  },
  {
   "cell_type": "code",
   "execution_count": 7,
   "id": "a5b04420",
   "metadata": {},
   "outputs": [],
   "source": [
    "# Split the data into features (X) and target variable (y)\n",
    "X = titanic[:, 2:]  # All columns except the first one (assuming 'Survived' is the first column)\n",
    "y = titanic[:, 1]   # First column ('Survived')\n",
    "\n"
   ]
  },
  {
   "cell_type": "code",
   "execution_count": 8,
   "id": "3fbb52f4",
   "metadata": {},
   "outputs": [
    {
     "name": "stdout",
     "output_type": "stream",
     "text": [
      "['male' 'A/5 21171' '']\n",
      "['22' '1' '0' '7.25']\n"
     ]
    }
   ],
   "source": [
    "categorical_columns = [3,7,9]  # Indices of categorical columns (Pclass, Name, Sex, Ticket, Cabin)\n",
    "numerical_columns = [4, 5, 6, 8]      # Indices of numerical columns (Age, SibSp, Parch, Fare)\n",
    "ordinal_columns = [0]                 # Indices of ordinal columns (Pclass)\n",
    "print(X[0][categorical_columns])\n",
    "print(X[0][numerical_columns])\n",
    "#print(y[5])"
   ]
  },
  {
   "cell_type": "code",
   "execution_count": 9,
   "id": "4454953d",
   "metadata": {},
   "outputs": [],
   "source": [
    "from data_processing.preprocessing import NumericConverter\n",
    "X_train, X_test, y_train, y_test = train_test_split(X, y, test_size=0.2, seed=2108)\n",
    "\n",
    "# Preprocessing pipeline for categorical columns\n",
    "categorical_imputer = SimpleImputer(strategy=\"most_frequent\")\n",
    "categorical_encoder = OneHotEncoder()\n",
    "categorical_pipeline = PreprocessingPipeline([\n",
    "    (\"imputer\", categorical_imputer),\n",
    "    (\"encoder\", categorical_encoder)\n",
    "])\n",
    "\n",
    "# Preprocessing pipeline for numerical columns\n",
    "numerical_imputer = SimpleImputer(strategy=\"mean\")\n",
    "numerical_converter = NumericConverter()\n",
    "numerical_scaler = MinMaxScaler()\n",
    "numerical_pipeline = PreprocessingPipeline([\n",
    "    (\"imputer\", numerical_imputer),\n",
    "    (\"converter\", numerical_converter),\n",
    "    (\"scaler\", numerical_scaler)\n",
    "])\n",
    "\n",
    "# Preprocessing pipeline for ordinal columns\n",
    "ordinal_imputer = SimpleImputer(strategy=\"most_frequent\")\n",
    "ordinal_encoder = OrdinalEncoder()\n",
    "ordinal_pipeline = PreprocessingPipeline([\n",
    "    (\"imputer\", ordinal_imputer),\n",
    "    (\"encoder\", ordinal_encoder)\n",
    "])\n",
    "\n",
    "# Split the training data based on column types\n",
    "X_train_categorical = X_train[:, categorical_columns]\n",
    "X_train_numerical = X_train[:, numerical_columns]\n",
    "X_train_ordinal = X_train[:, ordinal_columns]\n",
    "\n",
    "# Preprocess the training data\n",
    "X_train_categorical_preprocessed = categorical_pipeline.fit_transform(X_train_categorical)\n",
    "X_train_numerical_preprocessed = numerical_pipeline.fit_transform(X_train_numerical)\n",
    "X_train_ordinal_preprocessed = ordinal_pipeline.fit_transform(X_train_ordinal)\n",
    "\n",
    "# Combine the preprocessed training data\n",
    "X_train_preprocessed = np.hstack((X_train_categorical_preprocessed, X_train_numerical_preprocessed, X_train_ordinal_preprocessed))\n",
    "\n",
    "# Split the test data based on column types\n",
    "X_test_categorical = X_test[:, categorical_columns]\n",
    "X_test_numerical = X_test[:, numerical_columns]\n",
    "X_test_ordinal = X_test[:, ordinal_columns]\n",
    "\n",
    "# Preprocess the test data using the fitted pipelines\n",
    "X_test_categorical_preprocessed = categorical_pipeline.transform(X_test_categorical)\n",
    "X_test_numerical_preprocessed = numerical_pipeline.transform(X_test_numerical)\n",
    "X_test_ordinal_preprocessed = ordinal_pipeline.transform(X_test_ordinal)\n",
    "\n",
    "# Combine the preprocessed test data\n",
    "X_test_preprocessed = np.hstack((X_test_categorical_preprocessed, X_test_numerical_preprocessed, X_test_ordinal_preprocessed))\n",
    "\n",
    "# Encode the target variable\n",
    "label_encoder = LabelEncoder()\n",
    "y_train_encoded = label_encoder.fit_transform(y_train)\n",
    "y_test_encoded = label_encoder.transform(y_test)"
   ]
  },
  {
   "cell_type": "code",
   "execution_count": 10,
   "id": "b1a3b463",
   "metadata": {},
   "outputs": [
    {
     "name": "stdout",
     "output_type": "stream",
     "text": [
      "(713, 691)\n",
      "[1.         0.         0.         0.         0.         0.\n",
      " 0.         0.         0.         0.         0.         0.\n",
      " 0.         0.         0.         0.         0.         0.\n",
      " 0.         0.         0.         0.         0.         0.\n",
      " 0.         0.         0.         0.         0.         0.\n",
      " 0.         0.         0.         0.         0.         0.\n",
      " 0.         0.         0.         0.         0.         0.\n",
      " 0.         0.         0.         0.         0.         0.\n",
      " 0.         0.         0.         0.         0.         0.\n",
      " 0.         0.         0.         0.         0.         0.\n",
      " 0.         0.         0.         0.         0.         0.\n",
      " 0.         0.         0.         0.         0.         0.\n",
      " 0.         0.         0.         0.         0.         0.\n",
      " 0.         0.         0.         0.         0.         0.\n",
      " 0.         0.         0.         0.         0.         0.\n",
      " 0.         0.         0.         0.         0.         0.\n",
      " 0.         0.         0.         0.         0.         0.\n",
      " 0.         0.         0.         0.         0.         0.\n",
      " 0.         0.         0.         0.         0.         0.\n",
      " 0.         0.         0.         0.         0.         0.\n",
      " 0.         0.         0.         0.         0.         0.\n",
      " 0.         0.         0.         0.         0.         0.\n",
      " 0.         0.         0.         0.         0.         0.\n",
      " 0.         0.         0.         0.         0.         0.\n",
      " 0.         0.         0.         0.         0.         0.\n",
      " 0.         0.         0.         0.         0.         0.\n",
      " 0.         0.         0.         0.         0.         0.\n",
      " 0.         0.         0.         0.         0.         0.\n",
      " 0.         0.         0.         0.         0.         0.\n",
      " 0.         0.         0.         0.         0.         0.\n",
      " 0.         0.         0.         0.         0.         0.\n",
      " 0.         0.         0.         0.         0.         0.\n",
      " 0.         0.         0.         0.         1.         0.\n",
      " 0.         0.         0.         0.         0.         0.\n",
      " 0.         0.         0.         0.         0.         0.\n",
      " 0.         0.         0.         0.         0.         0.\n",
      " 0.         0.         0.         0.         0.         0.\n",
      " 0.         0.         0.         0.         0.         0.\n",
      " 0.         0.         0.         0.         0.         0.\n",
      " 0.         0.         0.         0.         0.         0.\n",
      " 0.         0.         0.         0.         0.         0.\n",
      " 0.         0.         0.         0.         0.         0.\n",
      " 0.         0.         0.         0.         0.         0.\n",
      " 0.         0.         0.         0.         0.         0.\n",
      " 0.         0.         0.         0.         0.         0.\n",
      " 0.         0.         0.         0.         0.         0.\n",
      " 0.         0.         0.         0.         0.         0.\n",
      " 0.         0.         0.         0.         0.         0.\n",
      " 0.         0.         0.         0.         0.         0.\n",
      " 0.         0.         0.         0.         0.         0.\n",
      " 0.         0.         0.         0.         0.         0.\n",
      " 0.         0.         0.         0.         0.         0.\n",
      " 0.         0.         0.         0.         0.         0.\n",
      " 0.         0.         0.         0.         0.         0.\n",
      " 0.         0.         0.         0.         0.         0.\n",
      " 0.         0.         0.         0.         0.         0.\n",
      " 0.         0.         0.         0.         0.         0.\n",
      " 0.         0.         0.         0.         0.         0.\n",
      " 0.         0.         0.         0.         0.         0.\n",
      " 0.         0.         0.         0.         0.         0.\n",
      " 0.         0.         0.         0.         0.         0.\n",
      " 0.         0.         0.         0.         0.         0.\n",
      " 0.         0.         0.         0.         0.         0.\n",
      " 0.         0.         0.         0.         0.         0.\n",
      " 0.         0.         0.         0.         0.         0.\n",
      " 0.         0.         0.         0.         0.         0.\n",
      " 0.         0.         0.         0.         0.         0.\n",
      " 0.         0.         0.         0.         0.         0.\n",
      " 0.         0.         0.         0.         0.         0.\n",
      " 0.         0.         0.         0.         0.         0.\n",
      " 0.         0.         0.         0.         0.         0.\n",
      " 0.         0.         0.         0.         0.         0.\n",
      " 0.         0.         0.         0.         0.         0.\n",
      " 0.         0.         0.         0.         0.         0.\n",
      " 0.         0.         0.         0.         0.         0.\n",
      " 0.         0.         0.         0.         0.         0.\n",
      " 0.         0.         0.         0.         0.         0.\n",
      " 0.         0.         0.         0.         0.         0.\n",
      " 0.         0.         0.         0.         0.         0.\n",
      " 0.         0.         0.         0.         0.         0.\n",
      " 0.         0.         0.         0.         0.         0.\n",
      " 0.         0.         0.         0.         0.         0.\n",
      " 0.         0.         0.         0.         0.         0.\n",
      " 0.         0.         0.         0.         0.         0.\n",
      " 0.         0.         0.         0.         0.         0.\n",
      " 0.         0.         0.         0.         0.         0.\n",
      " 0.         0.         0.         0.         0.         0.\n",
      " 0.         0.         0.         0.         0.         0.\n",
      " 0.         0.         0.         0.         0.         0.\n",
      " 0.         0.         0.         0.         0.         0.\n",
      " 0.         0.         0.         0.         0.         0.\n",
      " 0.         0.         0.         0.         0.         0.\n",
      " 0.         0.         0.         0.         0.         0.\n",
      " 0.         0.         0.         0.         0.         0.\n",
      " 0.         0.         0.         0.         0.         0.\n",
      " 0.         0.         0.         0.         0.         0.\n",
      " 0.         0.         0.         0.         0.         0.\n",
      " 0.         0.         0.         0.         0.         0.\n",
      " 0.         0.         0.         0.         0.         0.\n",
      " 0.         0.         0.         0.         0.         0.\n",
      " 0.         0.         0.         0.         0.         0.\n",
      " 0.         0.         0.         0.         0.         0.\n",
      " 0.         0.         0.         0.         1.         0.\n",
      " 0.         0.         0.         0.         0.         0.\n",
      " 0.         0.         0.         0.         0.         0.\n",
      " 0.         0.         0.         0.         0.         0.\n",
      " 0.         0.         0.         0.         0.         0.\n",
      " 0.         0.         0.         0.         0.         0.\n",
      " 0.         0.         0.         0.         0.         0.\n",
      " 0.         0.         0.         0.         0.         0.\n",
      " 0.         0.         0.         0.         0.         0.\n",
      " 0.         0.         0.         0.         0.         0.\n",
      " 0.         0.         0.         0.         0.         0.\n",
      " 0.         0.         0.         0.         0.         0.\n",
      " 0.         0.         0.04197655 0.125      0.16666667 0.04489301\n",
      " 1.        ]\n"
     ]
    }
   ],
   "source": [
    "print(X_train_preprocessed.shape)\n",
    "print(X_train_preprocessed[1])"
   ]
  },
  {
   "cell_type": "code",
   "execution_count": 11,
   "id": "31ea5931",
   "metadata": {},
   "outputs": [
    {
     "name": "stdout",
     "output_type": "stream",
     "text": [
      "[0.8591549295774648, 0.8309859154929577, 0.7746478873239436, 0.7605633802816901, 0.704225352112676, 0.8450704225352113, 0.7605633802816901, 0.9014084507042254, 0.8028169014084507, 0.8783783783783784]\n",
      "[0.8732394366197183, 0.8873239436619719, 0.7746478873239436, 0.8309859154929577, 0.7887323943661971, 0.8450704225352113, 0.8309859154929577, 0.8873239436619719, 0.8028169014084507, 0.8513513513513513]\n",
      "[0.8732394366197183, 0.7746478873239436, 0.7605633802816901, 0.7464788732394366, 0.6901408450704225, 0.8309859154929577, 0.7746478873239436, 0.8732394366197183, 0.8028169014084507, 0.7297297297297297]\n"
     ]
    }
   ],
   "source": [
    "from data_processing.cross_validation import k_folds_accuracy_scores\n",
    "knn_titanic = KNearestNeighbours(10)\n",
    "tree_titanic = ClassificationTree()\n",
    "sm_titanic = SoftmaxRegression()\n",
    "\n",
    "print(k_folds_accuracy_scores(knn_titanic,X_train_preprocessed,y_train_encoded,10,2108))\n",
    "print(k_folds_accuracy_scores(tree_titanic, X_train_preprocessed, y_train_encoded, 10, 2108))\n",
    "print(k_folds_accuracy_scores(sm_titanic, X_train_preprocessed, y_train_encoded, 10, 2108))"
   ]
  },
  {
   "cell_type": "code",
   "execution_count": 12,
   "id": "6e003ae2",
   "metadata": {},
   "outputs": [
    {
     "name": "stdout",
     "output_type": "stream",
     "text": [
      "[0.7865168539325843, 0.7752808988764045, 0.8426966292134831, 0.7640449438202247, 0.8202247191011236, 0.8539325842696629, 0.8539325842696629, 0.7078651685393258, 0.8089887640449438, 0.8222222222222222]\n",
      "[0.7865168539325843, 0.8202247191011236, 0.9101123595505618, 0.7865168539325843, 0.898876404494382, 0.8426966292134831, 0.8651685393258427, 0.7415730337078652, 0.8314606741573034, 0.8333333333333334]\n",
      "[0.7528089887640449, 0.7640449438202247, 0.8202247191011236, 0.7528089887640449, 0.7865168539325843, 0.8426966292134831, 0.8539325842696629, 0.7078651685393258, 0.7865168539325843, 0.8]\n"
     ]
    }
   ],
   "source": [
    "from data_processing.preprocessing import CombinedPreprocessor\n",
    "\n",
    "# Define the column types\n",
    "categorical_columns = [3,7,9]  # Specify the indices of categorical columns\n",
    "numerical_columns = [4,5,6,8]    # Specify the indices of numerical columns\n",
    "ordinal_columns = [0]      # Specify the indices of ordinal columns\n",
    "\n",
    "# Create the individual preprocessing pipelines\n",
    "categorical_pipeline = PreprocessingPipeline([\n",
    "    (\"imputer\", SimpleImputer(strategy=\"most_frequent\")),\n",
    "    (\"encoder\", OneHotEncoder())\n",
    "])\n",
    "\n",
    "numerical_pipeline = PreprocessingPipeline([\n",
    "    (\"imputer\", SimpleImputer(strategy=\"mean\")),\n",
    "    (\"converter\", NumericConverter()),\n",
    "    (\"scaler\", MinMaxScaler())\n",
    "])\n",
    "\n",
    "ordinal_pipeline = PreprocessingPipeline([\n",
    "    (\"imputer\", SimpleImputer(strategy=\"most_frequent\")),\n",
    "    (\"encoder\", OrdinalEncoder())\n",
    "])\n",
    "\n",
    "big_preprocessor = CombinedPreprocessor(\n",
    "    categorical=(categorical_pipeline, categorical_columns),\n",
    "    numerical=(numerical_pipeline, numerical_columns),\n",
    "    ordinal=(ordinal_pipeline, ordinal_columns)\n",
    ")\n",
    "knn_titanic_prep = KNearestNeighbours(10)\n",
    "tree_titanic_prep = ClassificationTree()\n",
    "softmax_titanic_prep = SoftmaxRegression()\n",
    "\n",
    "print(k_folds_accuracy_scores(knn_titanic_prep, X, y, 10, 2108, big_preprocessor))\n",
    "print(k_folds_accuracy_scores(tree_titanic_prep, X, y, 10, 2108, big_preprocessor))\n",
    "print(k_folds_accuracy_scores(softmax_titanic_prep, X, y, 10, 2108, big_preprocessor))\n"
   ]
  },
  {
   "cell_type": "code",
   "execution_count": 13,
   "id": "72bcd0ff",
   "metadata": {},
   "outputs": [
    {
     "name": "stdout",
     "output_type": "stream",
     "text": [
      "[['1' '3' 'Braund, Mr. Owen Harris' 'male' '22' '1' '0' 'A/5 21171'\n",
      "  '7.25' '' 'S']\n",
      " ['2' '1' 'Cumings, Mrs. John Bradley (Florence Briggs Thayer)' 'female'\n",
      "  '38' '1' '0' 'PC 17599' '71.2833' 'C85' 'C']\n",
      " ['3' '3' 'Heikkinen, Miss. Laina' 'female' '26' '0' '0'\n",
      "  'STON/O2. 3101282' '7.925' '' 'S']\n",
      " ['4' '1' 'Futrelle, Mrs. Jacques Heath (Lily May Peel)' 'female' '35'\n",
      "  '1' '0' '113803' '53.1' 'C123' 'S']\n",
      " ['5' '3' 'Allen, Mr. William Henry' 'male' '35' '0' '0' '373450' '8.05'\n",
      "  '' 'S']\n",
      " ['6' '3' 'Moran, Mr. James' 'male' '' '0' '0' '330877' '8.4583' '' 'Q']\n",
      " ['7' '1' 'McCarthy, Mr. Timothy J' 'male' '54' '0' '0' '17463' '51.8625'\n",
      "  'E46' 'S']\n",
      " ['8' '3' 'Palsson, Master. Gosta Leonard' 'male' '2' '3' '1' '349909'\n",
      "  '21.075' '' 'S']\n",
      " ['9' '3' 'Johnson, Mrs. Oscar W (Elisabeth Vilhelmina Berg)' 'female'\n",
      "  '27' '0' '2' '347742' '11.1333' '' 'S']\n",
      " ['10' '2' 'Nasser, Mrs. Nicholas (Adele Achem)' 'female' '14' '1' '0'\n",
      "  '237736' '30.0708' '' 'C']]\n",
      "y:  ['0' '1' '1' '1' '0' '0' '0' '0' '1' '1']\n"
     ]
    }
   ],
   "source": [
    "import numpy as np\n",
    "import sys\n",
    "sys.path.append(\"..\")\n",
    "from data_processing.preprocessing import load_dataset\n",
    "\n",
    "\n",
    "X_titanic, y_titanic = load_dataset(\"../datasets/Titanic-Dataset.csv\",1,',',missing_values=True,header=True)\n",
    "print(X_titanic[:10])\n",
    "print(\"y: \",y_titanic[:10])"
   ]
  },
  {
   "cell_type": "code",
   "execution_count": 14,
   "id": "46e0e1e6",
   "metadata": {},
   "outputs": [
    {
     "name": "stdout",
     "output_type": "stream",
     "text": [
      "['male' 'A/5 21171' '']\n",
      "['22' '1' '0' '7.25']\n",
      "['3']\n"
     ]
    }
   ],
   "source": [
    "categorical_columns = [3,7,9]  # Indices of categorical columns (Pclass, Name, Sex, Ticket, Cabin)\n",
    "numerical_columns = [4, 5, 6, 8]      # Indices of numerical columns (Age, SibSp, Parch, Fare)\n",
    "ordinal_columns = [1]                 # Indices of ordinal columns (Pclass)\n",
    "print(X_titanic[0][categorical_columns])\n",
    "print(X_titanic[0][numerical_columns])\n",
    "print(X_titanic[0][ordinal_columns])"
   ]
  },
  {
   "cell_type": "code",
   "execution_count": 15,
   "id": "dc014d78",
   "metadata": {},
   "outputs": [
    {
     "name": "stdout",
     "output_type": "stream",
     "text": [
      "[[0.         1.         0.         ... 0.33333333 0.0915427  2.        ]\n",
      " [1.         0.         0.         ... 0.16666667 0.04489301 1.        ]\n",
      " [1.         0.         0.         ... 0.33333333 0.05123659 1.        ]\n",
      " ...\n",
      " [0.         1.         0.         ... 0.         0.01510259 2.        ]\n",
      " [1.         0.         0.         ... 0.         0.01512699 2.        ]\n",
      " [0.         1.         0.         ... 0.33333333 0.0915427  2.        ]]\n"
     ]
    }
   ],
   "source": [
    "from models.knn import KNearestNeighbours\n",
    "from models.classification_tree import ClassificationTree\n",
    "from models.logistic_regression import SoftmaxRegression\n",
    "from data_processing.preprocessing import MinMaxScaler, SimpleImputer, OrdinalEncoder, OneHotEncoder, PreprocessingPipeline, LabelEncoder, NumericConverter, CombinedPreprocessor\n",
    "from data_processing.train_test_split import train_test_split \n",
    "from data_processing.cross_validation import k_folds_accuracy_scores\n",
    "# Create the individual preprocessing pipelines\n",
    "categorical_pipeline = PreprocessingPipeline([\n",
    "    (\"imputer\", SimpleImputer(strategy=\"most_frequent\")),\n",
    "    (\"encoder\", OneHotEncoder())\n",
    "])\n",
    "\n",
    "numerical_pipeline = PreprocessingPipeline([\n",
    "    (\"imputer\", SimpleImputer(strategy=\"mean\")),\n",
    "    (\"converter\", NumericConverter()),\n",
    "    (\"scaler\", MinMaxScaler())\n",
    "])\n",
    "\n",
    "ordinal_pipeline = PreprocessingPipeline([\n",
    "    (\"imputer\", SimpleImputer(strategy=\"most_frequent\")),\n",
    "    (\"encoder\", OrdinalEncoder())\n",
    "])\n",
    "\n",
    "preprocessor = CombinedPreprocessor(\n",
    "    categorical=(categorical_pipeline, categorical_columns),\n",
    "    numerical=(numerical_pipeline, numerical_columns),\n",
    "    ordinal=(ordinal_pipeline, ordinal_columns) \n",
    ")\n",
    "\n",
    "X_train, X_test, y_train, y_test = train_test_split(X_titanic, y_titanic, test_size=0.2, seed=2108)\n",
    "X_train_encoded = preprocessor.fit_transform(X_train)\n",
    "\n",
    "print(X_train_encoded)\n"
   ]
  },
  {
   "cell_type": "code",
   "execution_count": 16,
   "id": "ce71b88a",
   "metadata": {},
   "outputs": [
    {
     "name": "stdout",
     "output_type": "stream",
     "text": [
      "[0.7865168539325843, 0.7752808988764045, 0.8426966292134831, 0.7640449438202247, 0.8202247191011236, 0.8539325842696629, 0.8539325842696629, 0.7078651685393258, 0.8089887640449438, 0.8222222222222222]\n",
      "[0.7865168539325843, 0.8202247191011236, 0.9101123595505618, 0.7865168539325843, 0.898876404494382, 0.8426966292134831, 0.8651685393258427, 0.7415730337078652, 0.8314606741573034, 0.8333333333333334]\n"
     ]
    }
   ],
   "source": [
    "knn_titanic_2 = KNearestNeighbours(10)\n",
    "tree_titanic_2 = ClassificationTree()\n",
    "print(k_folds_accuracy_scores(knn_titanic_2, X_titanic, y_titanic, 10, 2108, preprocessor=preprocessor))\n",
    "print(k_folds_accuracy_scores(tree_titanic_2, X_titanic, y_titanic, 10, 2108, preprocessor=preprocessor))"
   ]
  },
  {
   "cell_type": "code",
   "execution_count": 17,
   "id": "1d78b9d6",
   "metadata": {},
   "outputs": [
    {
     "name": "stdout",
     "output_type": "stream",
     "text": [
      "X:  [['1' '6' '4' '12' '5' '5' '3' '4' '1' '67' '3' '2' '1' '2' '1' '0' '0'\n",
      "  '1' '0' '0' '1' '0' '0' '1']\n",
      " ['2' '48' '2' '60' '1' '3' '2' '2' '1' '22' '3' '1' '1' '1' '1' '0' '0'\n",
      "  '1' '0' '0' '1' '0' '0' '1']\n",
      " ['4' '12' '4' '21' '1' '4' '3' '3' '1' '49' '3' '1' '2' '1' '1' '0' '0'\n",
      "  '1' '0' '0' '1' '0' '1' '0']\n",
      " ['1' '42' '2' '79' '1' '4' '3' '4' '2' '45' '3' '1' '2' '1' '1' '0' '0'\n",
      "  '0' '0' '0' '0' '0' '0' '1']\n",
      " ['1' '24' '3' '49' '1' '3' '3' '4' '4' '53' '3' '2' '2' '1' '1' '1' '0'\n",
      "  '1' '0' '0' '0' '0' '0' '1']]\n",
      "y:  ['1' '2' '1' '1' '2']\n"
     ]
    }
   ],
   "source": [
    "X_credit, y_credit = load_dataset('../datasets/germancreditdataset/german.data-numeric.txt', sep='\\t')\n",
    "print(\"X: \", X_credit[:5])\n",
    "print(\"y: \", y_credit[:5])"
   ]
  },
  {
   "cell_type": "code",
   "execution_count": 18,
   "id": "684fae3e",
   "metadata": {},
   "outputs": [
    {
     "name": "stdout",
     "output_type": "stream",
     "text": [
      "[0.76, 0.72, 0.74, 0.65, 0.75, 0.71, 0.69, 0.78, 0.7, 0.65]\n",
      "[0.67, 0.67, 0.74, 0.69, 0.67, 0.71, 0.67, 0.66, 0.61, 0.69]\n",
      "[0.74, 0.61, 0.71, 0.71, 0.75, 0.68, 0.74, 0.76, 0.72, 0.68]\n"
     ]
    }
   ],
   "source": [
    "preprocessor = PreprocessingPipeline([\n",
    "    (\"imputer\", SimpleImputer(strategy=\"mean\")),\n",
    "    (\"converter\", NumericConverter()),\n",
    "    (\"scaler\", MinMaxScaler())\n",
    "])\n",
    "\n",
    "knn_credit = KNearestNeighbours(10)\n",
    "tree_credit = ClassificationTree()\n",
    "softmax_credit = SoftmaxRegression()\n",
    "print(k_folds_accuracy_scores(knn_credit,X_credit,y_credit,10,2108,preprocessor))\n",
    "print(k_folds_accuracy_scores(tree_credit,X_credit,y_credit,10,2108,preprocessor))\n",
    "print(k_folds_accuracy_scores(softmax_credit,X_credit,y_credit,10,2108,preprocessor))\n"
   ]
  },
  {
   "cell_type": "code",
   "execution_count": 19,
   "id": "bddc71db",
   "metadata": {},
   "outputs": [],
   "source": [
    "import numpy as np\n",
    "import pandas as pd \n",
    "\n",
    "def convert_column_to_numeric_if_possible(column):\n",
    "    \"\"\"\n",
    "    Tries to convert a column to numeric (float64 or int64), returns the converted column or the original if conversion is not possible.\n",
    "    \"\"\"\n",
    "    try:\n",
    "        return pd.to_numeric(column, errors='coerce'), True\n",
    "    except ValueError:\n",
    "        return column, False\n",
    "\n",
    "def detect_column_types(X, max_unique_ratio=0.1, max_ordinal_ratio=0.05):\n",
    "    num_samples, num_features = X.shape\n",
    "    numerical_columns, categorical_columns, ordinal_columns = [], [], []\n",
    "\n",
    "    for i in range(num_features):\n",
    "        # Attempt to convert each column to numeric\n",
    "        converted_column, converted = convert_column_to_numeric_if_possible(X[:, i])\n",
    "        unique_values = np.unique(converted_column[~pd.isnull(converted_column)])  # Exclude NaNs from unique value calculation\n",
    "        unique_ratio = len(unique_values) / num_samples\n",
    "\n",
    "        if converted:\n",
    "            # Column has been successfully converted to numeric\n",
    "            if unique_ratio <= max_ordinal_ratio:\n",
    "                ordinal_columns.append(i)\n",
    "            else:\n",
    "                numerical_columns.append(i)\n",
    "        else:\n",
    "            # Column remains non-numeric after attempted conversion\n",
    "            if unique_ratio <= max_unique_ratio or len(unique_values) < 10:  # Assuming low unique values could indicate ordinal\n",
    "                categorical_columns.append(i)  # This could be refined to better distinguish between categorical and ordinal\n",
    "            else:\n",
    "                categorical_columns.append(i)  # Default to categorical for non-numeric\n",
    "\n",
    "    return numerical_columns, categorical_columns, ordinal_columns"
   ]
  },
  {
   "cell_type": "code",
   "execution_count": 20,
   "id": "345850fc",
   "metadata": {},
   "outputs": [
    {
     "name": "stdout",
     "output_type": "stream",
     "text": [
      "([0, 4, 7, 8], [], [1, 2, 3, 5, 6, 9, 10])\n",
      "([3, 9], [], [0, 1, 2, 4, 5, 6, 7, 8, 10, 11, 12, 13, 14, 15, 16, 17, 18, 19, 20, 21, 22, 23])\n",
      "Numerical columns: [0]\n",
      "Categorical columns: []\n",
      "Ordinal columns: [1, 2]\n"
     ]
    }
   ],
   "source": [
    "print(detect_column_types(X_titanic))\n",
    "print(detect_column_types(X_credit))\n",
    "X = np.array([\n",
    "    [\"1\", \"low\", \"A\"],\n",
    "    [\"2\", \"medium\", \"B\"],\n",
    "    [\"3\", \"high\", \"A\"],\n",
    "    [\"4\", \"medium\", \"B\"],\n",
    "    [\"5\", \"high\", \"C\"]\n",
    "], dtype=object)  # Initial dataset loaded as strings\n",
    "\n",
    "numerical_columns, categorical_columns, ordinal_columns = detect_column_types(X)\n",
    "print(\"Numerical columns:\", numerical_columns)\n",
    "print(\"Categorical columns:\", categorical_columns)\n",
    "print(\"Ordinal columns:\", ordinal_columns)"
   ]
  }
 ],
 "metadata": {
  "kernelspec": {
   "display_name": "Python 3 (ipykernel)",
   "language": "python",
   "name": "python3"
  },
  "language_info": {
   "codemirror_mode": {
    "name": "ipython",
    "version": 3
   },
   "file_extension": ".py",
   "mimetype": "text/x-python",
   "name": "python",
   "nbconvert_exporter": "python",
   "pygments_lexer": "ipython3",
   "version": "3.10.13"
  }
 },
 "nbformat": 4,
 "nbformat_minor": 5
}
