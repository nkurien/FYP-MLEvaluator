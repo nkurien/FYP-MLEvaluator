{
 "cells": [
  {
   "cell_type": "code",
   "execution_count": 2,
   "metadata": {},
   "outputs": [
    {
     "name": "stdout",
     "output_type": "stream",
     "text": [
      "KNN Accuracy:  0.8148148148148148\n",
      "CART Accuracy:  0.8204264870931538\n",
      "Softmax Accuracy:  0.7878787878787878\n"
     ]
    }
   ],
   "source": [
    "import sys\n",
    "sys.path.append(\"..\")\n",
    "from models.optimisers import GridSearch\n",
    "import numpy as np\n",
    "from data_processing.preprocessing import *\n",
    "from data_processing.cross_validation import *\n",
    "from data_processing.train_test_split import *\n",
    "from models.classification_tree import ClassificationTree\n",
    "from models.logistic_regression import SoftmaxRegression\n",
    "from models.knn import KNearestNeighbours\n",
    "\n",
    "X_titanic, y_titanic = load_dataset(file_path=\"../datasets/Titanic-Dataset.csv\",target_col=1,sep=',',header=True)\n",
    "\n",
    "categorical_columns = [3,7,9]  \n",
    "numerical_columns = [4, 5, 6, 8]     \n",
    "ordinal_columns = [1]   \n",
    "\n",
    "categorical_pipeline = PreprocessingPipeline([\n",
    "    (\"imputer\", SimpleImputer(strategy=\"most_frequent\")),\n",
    "    (\"encoder\", OneHotEncoder())\n",
    "])\n",
    "\n",
    "numerical_pipeline = PreprocessingPipeline([\n",
    "    (\"imputer\", SimpleImputer(strategy=\"mean\")),\n",
    "    (\"converter\", NumericConverter()),\n",
    "    (\"scaler\", MinMaxScaler())\n",
    "])\n",
    "\n",
    "ordinal_pipeline = PreprocessingPipeline([\n",
    "    (\"imputer\", SimpleImputer(strategy=\"most_frequent\")),\n",
    "    (\"encoder\", OrdinalEncoder())\n",
    "])\n",
    "\n",
    "preprocessor = CombinedPreprocessor(\n",
    "    categorical=(categorical_pipeline, categorical_columns),\n",
    "    numerical=(numerical_pipeline, numerical_columns),\n",
    "    ordinal=(ordinal_pipeline, ordinal_columns) \n",
    ")\n",
    "\n",
    "X_train_t, X_val_t, y_train_t, y_val_t = train_test_split(X_titanic, y_titanic, 0.2, 2233)\n",
    "\n",
    "knn_search = GridSearch(KNearestNeighbours())\n",
    "tree_search = GridSearch(ClassificationTree())\n",
    "softmax_search = GridSearch(SoftmaxRegression())\n",
    "\n",
    "X_train_t = preprocessor.fit_transform(X_train_t)\n",
    "X_val_t = preprocessor.transform(X_val_t)\n",
    "\n",
    "\n",
    "knn_search.fit(X_train_t, y_train_t, X_val_t, y_val_t)\n",
    "tree_search.fit(X_train_t, y_train_t, X_val_t, y_val_t)\n",
    "softmax_search.fit(X_train_t, y_train_t, X_val_t, y_val_t)\n",
    "\n",
    "\n",
    "knn_titanic = knn_search.best_model_\n",
    "tree_titanic = tree_search.best_model_\n",
    "softmax_titanic = softmax_search.best_model_\n",
    "\n",
    "true_labels_titanic_knn, predictions_titanic_knn = k_folds_predictions(knn_titanic, X=X_titanic, y=y_titanic, k=5, seed=2108, preprocessor=preprocessor )\n",
    "\n",
    "\n",
    "true_labels_titanic_tree, predictions_titanic_tree = k_folds_predictions(tree_titanic, X=X_titanic, y=y_titanic, k=5, seed=2108, preprocessor=preprocessor )\n",
    "\n",
    "\n",
    "true_labels_titanic_softmax, predictions_titanic_softmax = k_folds_predictions(softmax_titanic, X=X_titanic, y=y_titanic, k=5, seed=2108, preprocessor=preprocessor )\n",
    "\n",
    "\n",
    "\n",
    "numConvert = NumericConverter()\n",
    "\n",
    "true_labels_titanic_knn = numConvert.fit_transform(true_labels_titanic_knn)\n",
    "predictions_titanic_knn = numConvert.transform(predictions_titanic_knn)\n",
    "\n",
    "true_labels_titanic_tree = numConvert.fit_transform(true_labels_titanic_tree)\n",
    "predictions_titanic_tree = numConvert.transform(predictions_titanic_tree)\n",
    "\n",
    "true_labels_titanic_softmax = numConvert.fit_transform(true_labels_titanic_softmax)\n",
    "predictions_titanic_softmax = numConvert.transform(predictions_titanic_softmax)\n",
    "\n",
    "print(\"KNN Accuracy: \", np.mean(true_labels_titanic_knn == predictions_titanic_knn))\n",
    "print(\"CART Accuracy: \", np.mean(true_labels_titanic_tree == predictions_titanic_tree))\n",
    "print(\"Softmax Accuracy: \", np.mean(true_labels_titanic_softmax == predictions_titanic_softmax))\n",
    "\n"
   ]
  },
  {
   "cell_type": "code",
   "execution_count": 3,
   "metadata": {},
   "outputs": [
    {
     "name": "stdout",
     "output_type": "stream",
     "text": [
      "KNN on Titanic metrics:  {'precision': 0.8074637673148568, 'recall': 0.7962563512606653, 'f1_score': 0.8008426072055108, 'specificity': 0.7962563512606653}\n",
      "CART on Titanic metrics:  {'precision': 0.8137953367875648, 'recall': 0.8019125683060109, 'f1_score': 0.8067538551629905, 'specificity': 0.8019125683060109}\n",
      "Softmax on Titanic metrics:  {'precision': 0.7776785714285714, 'recall': 0.768334771354616, 'f1_score': 0.7721643835616439, 'specificity': 0.768334771354616}\n"
     ]
    }
   ],
   "source": [
    "from data_processing.metrics import calculate_metrics\n",
    "print(\"KNN on Titanic metrics: \",calculate_metrics(true_labels_titanic_knn, predictions_titanic_knn) )\n",
    "print(\"CART on Titanic metrics: \",calculate_metrics(true_labels_titanic_tree, predictions_titanic_tree) )\n",
    "print(\"Softmax on Titanic metrics: \",calculate_metrics(true_labels_titanic_softmax, predictions_titanic_softmax) )\n"
   ]
  }
 ],
 "metadata": {
  "kernelspec": {
   "display_name": "base",
   "language": "python",
   "name": "python3"
  },
  "language_info": {
   "codemirror_mode": {
    "name": "ipython",
    "version": 3
   },
   "file_extension": ".py",
   "mimetype": "text/x-python",
   "name": "python",
   "nbconvert_exporter": "python",
   "pygments_lexer": "ipython3",
   "version": "3.10.13"
  }
 },
 "nbformat": 4,
 "nbformat_minor": 2
}
